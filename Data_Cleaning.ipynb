{
  "cells": [
    {
      "cell_type": "code",
      "execution_count": null,
      "metadata": {
        "id": "H8l3KUqPr1eW"
      },
      "outputs": [],
      "source": [
        "import pandas as pd"
      ]
    },
    {
      "cell_type": "code",
      "execution_count": null,
      "metadata": {
        "id": "Z4aRdmQ7ujfR"
      },
      "outputs": [],
      "source": [
        "df = pd.read_csv('messy_cars.csv')"
      ]
    },
    {
      "cell_type": "code",
      "execution_count": null,
      "metadata": {
        "colab": {
          "base_uri": "https://localhost:8080/",
          "height": 206
        },
        "id": "fchnye_Auqaa",
        "outputId": "7fef9c84-197d-4b5f-c961-42673f686ae8"
      },
      "outputs": [],
      "source": [
        "df.head()"
      ]
    },
    {
      "cell_type": "code",
      "execution_count": null,
      "metadata": {
        "colab": {
          "base_uri": "https://localhost:8080/"
        },
        "id": "HaXYZgA3uyBS",
        "outputId": "5d3a1bd4-f1c3-4556-fe9a-40076ce2d371"
      },
      "outputs": [],
      "source": [
        "print(df.info())"
      ]
    },
    {
      "cell_type": "code",
      "execution_count": null,
      "metadata": {
        "colab": {
          "base_uri": "https://localhost:8080/"
        },
        "id": "pocyed5FvA6t",
        "outputId": "35b58078-5fe1-45ab-aad6-f3001a22bb14"
      },
      "outputs": [],
      "source": [
        "for column in df.columns:\n",
        "  print(f\"{column} unique values:\")\n",
        "  print(df[column].unique())\n",
        "  print(f\"{column} missing values:\")\n",
        "  print(df[column].isnull().sum())"
      ]
    },
    {
      "cell_type": "code",
      "execution_count": null,
      "metadata": {
        "id": "LipRFUXNwj1V"
      },
      "outputs": [],
      "source": [
        "df = df.applymap(lambda s: s.strip().lower() if type(s) == str else s)"
      ]
    },
    {
      "cell_type": "code",
      "execution_count": null,
      "metadata": {
        "colab": {
          "base_uri": "https://localhost:8080/"
        },
        "id": "jeS4531aw7SO",
        "outputId": "3c821c6a-b548-4526-962d-47194d74e5ea"
      },
      "outputs": [],
      "source": [
        "print(df.head())"
      ]
    },
    {
      "cell_type": "code",
      "execution_count": null,
      "metadata": {
        "id": "K5FG86lMxh5D"
      },
      "outputs": [],
      "source": [
        "model_to_make = {'focus': 'ford', 'accord': 'honda', 'malibu': 'cheverolet', 'altima': 'nissan', 'camry': 'toyota'}\n",
        "def fill_missing_make(row):\n",
        "  if pd.isnull(row['make']) and row['model'] in model_to_make:\n",
        "    row['make'] = model_to_make[row['model']]\n",
        "  return row\n",
        "df = df.apply(fill_missing_make,axis=1)"
      ]
    },
    {
      "cell_type": "code",
      "execution_count": null,
      "metadata": {
        "colab": {
          "base_uri": "https://localhost:8080/"
        },
        "id": "djpCqz6h2ao5",
        "outputId": "0da6b872-0d52-4863-c959-621913c7e67d"
      },
      "outputs": [],
      "source": [
        "print(df.head())"
      ]
    },
    {
      "cell_type": "code",
      "execution_count": null,
      "metadata": {
        "id": "sNhMfMvk3R8H"
      },
      "outputs": [],
      "source": [
        "df = df[df['price'] >=0]\n",
        "df = df[df['mileage']>=0]"
      ]
    },
    {
      "cell_type": "code",
      "execution_count": null,
      "metadata": {
        "colab": {
          "base_uri": "https://localhost:8080/"
        },
        "id": "H5bx0UHN339b",
        "outputId": "f0968cd8-bd59-487d-e740-b5ab5f2ccf21"
      },
      "outputs": [],
      "source": [
        "print(df.info())"
      ]
    },
    {
      "cell_type": "code",
      "execution_count": null,
      "metadata": {
        "id": "AOV0Uwly4HgR"
      },
      "outputs": [],
      "source": [
        "from datetime import datetime\n",
        "def standardize(date_str):\n",
        "  if pd.isnull(date_str):\n",
        "    return None\n",
        "  date_formats = [ '%Y/%m/%d',\n",
        "        '%Y.%m.%d',\n",
        "        '%Y-%m-%d',\n",
        "        '%d-%m-%Y',\n",
        "        '%m-%d-%Y',\n",
        "        '%d/%m/%Y',\n",
        "        '%m/%d/%Y']\n",
        "  for date_format in date_formats:\n",
        "    try:\n",
        "      dt = datetime.strptime(date_str, date_format)\n",
        "      return dt.strftime(\"%Y-%m-%d\")\n",
        "    except ValueError:\n",
        "      pass\n",
        "  return None\n",
        "df['last_service'] = df['last_service'].apply(standardize)"
      ]
    },
    {
      "cell_type": "code",
      "execution_count": null,
      "metadata": {
        "colab": {
          "base_uri": "https://localhost:8080/"
        },
        "id": "wFkWxREG5807",
        "outputId": "388c0b4b-e931-42db-f868-b5b28c736ef4"
      },
      "outputs": [],
      "source": [
        "print(df.head())"
      ]
    },
    {
      "cell_type": "code",
      "execution_count": null,
      "metadata": {
        "colab": {
          "base_uri": "https://localhost:8080/"
        },
        "id": "PkJNVVrM6F_M",
        "outputId": "2293050a-f6af-4bfe-da74-cbbf4fdcdb20"
      },
      "outputs": [],
      "source": [
        "import re\n",
        "mystring =\"678998Sh@am1in N1iazi\"\n",
        "letters_only = re.sub(r'[^a-zA-Z\\s]','',mystring)\n",
        "print(letters_only)"
      ]
    },
    {
      "cell_type": "code",
      "execution_count": null,
      "metadata": {
        "colab": {
          "base_uri": "https://localhost:8080/"
        },
        "id": "t5enLZ407v8f",
        "outputId": "3e5130f8-3586-4d07-c0a2-75bd7779cab8"
      },
      "outputs": [],
      "source": [
        "import re\n",
        "mystring =\"678998Sh@am1in N1iazi\"\n",
        "letters_only = re.sub(r'\\D','',mystring)\n",
        "print(letters_only)"
      ]
    },
    {
      "cell_type": "code",
      "execution_count": null,
      "metadata": {
        "id": "7Vp6_LtG9kDo"
      },
      "outputs": [],
      "source": [
        "df.to_csv('clean_cars.csv')"
      ]
    }
  ],
  "metadata": {
    "colab": {
      "provenance": []
    },
    "kernelspec": {
      "display_name": "Python 3",
      "name": "python3"
    },
    "language_info": {
      "name": "python"
    }
  },
  "nbformat": 4,
  "nbformat_minor": 0
}
