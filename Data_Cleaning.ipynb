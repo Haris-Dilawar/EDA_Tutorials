{
  "cells": [
    {
      "cell_type": "code",
      "execution_count": null,
      "metadata": {
        "id": "H8l3KUqPr1eW"
      },
      "outputs": [],
      "source": [
        "import pandas as pd"
      ]
    },
    {
      "cell_type": "code",
      "execution_count": null,
      "metadata": {
        "id": "Z4aRdmQ7ujfR"
      },
      "outputs": [],
      "source": [
        "df = pd.read_csv('messy_cars.csv')"
      ]
    },
    {
      "cell_type": "code",
      "execution_count": null,
      "metadata": {
        "colab": {
          "base_uri": "https://localhost:8080/",
          "height": 206
        },
        "id": "fchnye_Auqaa",
        "outputId": "7fef9c84-197d-4b5f-c961-42673f686ae8"
      },
      "outputs": [
        {
          "data": {
            "text/html": [
              "\n",
              "  <div id=\"df-6435dbd1-18bd-4e7b-a271-7fab8d6ba773\">\n",
              "    <div class=\"colab-df-container\">\n",
              "      <div>\n",
              "<style scoped>\n",
              "    .dataframe tbody tr th:only-of-type {\n",
              "        vertical-align: middle;\n",
              "    }\n",
              "\n",
              "    .dataframe tbody tr th {\n",
              "        vertical-align: top;\n",
              "    }\n",
              "\n",
              "    .dataframe thead th {\n",
              "        text-align: right;\n",
              "    }\n",
              "</style>\n",
              "<table border=\"1\" class=\"dataframe\">\n",
              "  <thead>\n",
              "    <tr style=\"text-align: right;\">\n",
              "      <th></th>\n",
              "      <th>make</th>\n",
              "      <th>model</th>\n",
              "      <th>year</th>\n",
              "      <th>price</th>\n",
              "      <th>mileage</th>\n",
              "      <th>color</th>\n",
              "      <th>last_service</th>\n",
              "    </tr>\n",
              "  </thead>\n",
              "  <tbody>\n",
              "    <tr>\n",
              "      <th>0</th>\n",
              "      <td>NaN</td>\n",
              "      <td>Altima</td>\n",
              "      <td>2005.0</td>\n",
              "      <td>8406.0</td>\n",
              "      <td>133415.0</td>\n",
              "      <td>silver</td>\n",
              "      <td>04-03-2022</td>\n",
              "    </tr>\n",
              "    <tr>\n",
              "      <th>1</th>\n",
              "      <td>Chevrolet</td>\n",
              "      <td>Accord</td>\n",
              "      <td>2015.0</td>\n",
              "      <td>7399.0</td>\n",
              "      <td>98017.0</td>\n",
              "      <td>Black</td>\n",
              "      <td>2022-12-12</td>\n",
              "    </tr>\n",
              "    <tr>\n",
              "      <th>2</th>\n",
              "      <td>Toyota</td>\n",
              "      <td>Camry</td>\n",
              "      <td>2016.0</td>\n",
              "      <td>2789.0</td>\n",
              "      <td>56615.0</td>\n",
              "      <td>red</td>\n",
              "      <td>2023/02/07</td>\n",
              "    </tr>\n",
              "    <tr>\n",
              "      <th>3</th>\n",
              "      <td>TOYOTA</td>\n",
              "      <td>Altima</td>\n",
              "      <td>2007.0</td>\n",
              "      <td>8762.0</td>\n",
              "      <td>113933.0</td>\n",
              "      <td>red</td>\n",
              "      <td>10-05-2022</td>\n",
              "    </tr>\n",
              "    <tr>\n",
              "      <th>4</th>\n",
              "      <td>Toyota</td>\n",
              "      <td>Focus</td>\n",
              "      <td>2016.0</td>\n",
              "      <td>2473.0</td>\n",
              "      <td>138524.0</td>\n",
              "      <td>black</td>\n",
              "      <td>2023/03/21</td>\n",
              "    </tr>\n",
              "  </tbody>\n",
              "</table>\n",
              "</div>\n",
              "      <button class=\"colab-df-convert\" onclick=\"convertToInteractive('df-6435dbd1-18bd-4e7b-a271-7fab8d6ba773')\"\n",
              "              title=\"Convert this dataframe to an interactive table.\"\n",
              "              style=\"display:none;\">\n",
              "        \n",
              "  <svg xmlns=\"http://www.w3.org/2000/svg\" height=\"24px\"viewBox=\"0 0 24 24\"\n",
              "       width=\"24px\">\n",
              "    <path d=\"M0 0h24v24H0V0z\" fill=\"none\"/>\n",
              "    <path d=\"M18.56 5.44l.94 2.06.94-2.06 2.06-.94-2.06-.94-.94-2.06-.94 2.06-2.06.94zm-11 1L8.5 8.5l.94-2.06 2.06-.94-2.06-.94L8.5 2.5l-.94 2.06-2.06.94zm10 10l.94 2.06.94-2.06 2.06-.94-2.06-.94-.94-2.06-.94 2.06-2.06.94z\"/><path d=\"M17.41 7.96l-1.37-1.37c-.4-.4-.92-.59-1.43-.59-.52 0-1.04.2-1.43.59L10.3 9.45l-7.72 7.72c-.78.78-.78 2.05 0 2.83L4 21.41c.39.39.9.59 1.41.59.51 0 1.02-.2 1.41-.59l7.78-7.78 2.81-2.81c.8-.78.8-2.07 0-2.86zM5.41 20L4 18.59l7.72-7.72 1.47 1.35L5.41 20z\"/>\n",
              "  </svg>\n",
              "      </button>\n",
              "      \n",
              "  <style>\n",
              "    .colab-df-container {\n",
              "      display:flex;\n",
              "      flex-wrap:wrap;\n",
              "      gap: 12px;\n",
              "    }\n",
              "\n",
              "    .colab-df-convert {\n",
              "      background-color: #E8F0FE;\n",
              "      border: none;\n",
              "      border-radius: 50%;\n",
              "      cursor: pointer;\n",
              "      display: none;\n",
              "      fill: #1967D2;\n",
              "      height: 32px;\n",
              "      padding: 0 0 0 0;\n",
              "      width: 32px;\n",
              "    }\n",
              "\n",
              "    .colab-df-convert:hover {\n",
              "      background-color: #E2EBFA;\n",
              "      box-shadow: 0px 1px 2px rgba(60, 64, 67, 0.3), 0px 1px 3px 1px rgba(60, 64, 67, 0.15);\n",
              "      fill: #174EA6;\n",
              "    }\n",
              "\n",
              "    [theme=dark] .colab-df-convert {\n",
              "      background-color: #3B4455;\n",
              "      fill: #D2E3FC;\n",
              "    }\n",
              "\n",
              "    [theme=dark] .colab-df-convert:hover {\n",
              "      background-color: #434B5C;\n",
              "      box-shadow: 0px 1px 3px 1px rgba(0, 0, 0, 0.15);\n",
              "      filter: drop-shadow(0px 1px 2px rgba(0, 0, 0, 0.3));\n",
              "      fill: #FFFFFF;\n",
              "    }\n",
              "  </style>\n",
              "\n",
              "      <script>\n",
              "        const buttonEl =\n",
              "          document.querySelector('#df-6435dbd1-18bd-4e7b-a271-7fab8d6ba773 button.colab-df-convert');\n",
              "        buttonEl.style.display =\n",
              "          google.colab.kernel.accessAllowed ? 'block' : 'none';\n",
              "\n",
              "        async function convertToInteractive(key) {\n",
              "          const element = document.querySelector('#df-6435dbd1-18bd-4e7b-a271-7fab8d6ba773');\n",
              "          const dataTable =\n",
              "            await google.colab.kernel.invokeFunction('convertToInteractive',\n",
              "                                                     [key], {});\n",
              "          if (!dataTable) return;\n",
              "\n",
              "          const docLinkHtml = 'Like what you see? Visit the ' +\n",
              "            '<a target=\"_blank\" href=https://colab.research.google.com/notebooks/data_table.ipynb>data table notebook</a>'\n",
              "            + ' to learn more about interactive tables.';\n",
              "          element.innerHTML = '';\n",
              "          dataTable['output_type'] = 'display_data';\n",
              "          await google.colab.output.renderOutput(dataTable, element);\n",
              "          const docLink = document.createElement('div');\n",
              "          docLink.innerHTML = docLinkHtml;\n",
              "          element.appendChild(docLink);\n",
              "        }\n",
              "      </script>\n",
              "    </div>\n",
              "  </div>\n",
              "  "
            ],
            "text/plain": [
              "        make   model    year   price   mileage   color last_service\n",
              "0        NaN  Altima  2005.0  8406.0  133415.0  silver   04-03-2022\n",
              "1  Chevrolet  Accord  2015.0  7399.0   98017.0   Black   2022-12-12\n",
              "2     Toyota   Camry  2016.0  2789.0   56615.0     red   2023/02/07\n",
              "3     TOYOTA  Altima  2007.0  8762.0  113933.0     red   10-05-2022\n",
              "4     Toyota   Focus  2016.0  2473.0  138524.0   black   2023/03/21"
            ]
          },
          "execution_count": 3,
          "metadata": {},
          "output_type": "execute_result"
        }
      ],
      "source": [
        "df.head()"
      ]
    },
    {
      "cell_type": "code",
      "execution_count": null,
      "metadata": {
        "colab": {
          "base_uri": "https://localhost:8080/"
        },
        "id": "HaXYZgA3uyBS",
        "outputId": "5d3a1bd4-f1c3-4556-fe9a-40076ce2d371"
      },
      "outputs": [
        {
          "name": "stdout",
          "output_type": "stream",
          "text": [
            "<class 'pandas.core.frame.DataFrame'>\n",
            "RangeIndex: 105 entries, 0 to 104\n",
            "Data columns (total 7 columns):\n",
            " #   Column        Non-Null Count  Dtype  \n",
            "---  ------        --------------  -----  \n",
            " 0   make          95 non-null     object \n",
            " 1   model         93 non-null     object \n",
            " 2   year          97 non-null     float64\n",
            " 3   price         93 non-null     float64\n",
            " 4   mileage       98 non-null     float64\n",
            " 5   color         96 non-null     object \n",
            " 6   last_service  91 non-null     object \n",
            "dtypes: float64(3), object(4)\n",
            "memory usage: 5.9+ KB\n",
            "None\n"
          ]
        }
      ],
      "source": [
        "print(df.info())"
      ]
    },
    {
      "cell_type": "code",
      "execution_count": null,
      "metadata": {
        "colab": {
          "base_uri": "https://localhost:8080/"
        },
        "id": "pocyed5FvA6t",
        "outputId": "35b58078-5fe1-45ab-aad6-f3001a22bb14"
      },
      "outputs": [
        {
          "name": "stdout",
          "output_type": "stream",
          "text": [
            "make unique values:\n",
            "[nan 'chevrolet' 'toyota' 'ford' 'nissan' 'honda']\n",
            "make missing values:\n",
            "10\n",
            "model unique values:\n",
            "['altima' 'accord' 'camry' 'focus' 'malibu' nan]\n",
            "model missing values:\n",
            "12\n",
            "year unique values:\n",
            "[2005. 2015. 2016. 2007. 2012. 2020. 2013. 2008.   nan 2014. 2009. 2022.\n",
            " 2018. 2017. 2011. 2021. 2019. 2010. 2006.]\n",
            "year missing values:\n",
            "8\n",
            "price unique values:\n",
            "[ 8406.  7399.  2789.  8762.  2473.    nan  3866. 13513.  5001.  7393.\n",
            "  7605. 13144.  5877.  8936.  5841.  8686. 13598.  4357. 14892. 12519.\n",
            " 12498.  6814. 11544.  4343. 13637.  7873. 11492.  7825.  9555. 14700.\n",
            "  9885. 14466.  3147.  5378. 12532.  3385.  8240. 11926. 11561. 13191.\n",
            " 13916.  5820.  8475.  5229. 10279. 13473.  4180. 14217.  8363. 11921.\n",
            " 11946.  6068.  3680.  9462.  4316. 11736. 13356. 11188.  5209. 14196.\n",
            "  4171. 12227.  8141. 10442. 14420.  5676. 10126.  7227. 14725.  6115.\n",
            " 14985.  9177.  5326.  9557.  7270.  8230.  9688. 13113.  6756.  9771.\n",
            " 10143.  2762. 12626. 10223. 14010.  5103. 12851.  7832.  4169.  9072.]\n",
            "price missing values:\n",
            "12\n",
            "mileage unique values:\n",
            "[133415.  98017.  56615. 113933. 138524. 153528.  91619.  74653. 171556.\n",
            " 111974. 151032. 173888.  68664. 121444.     nan 132134. 177129. 148357.\n",
            "  88994.  72323.  52872. 156914. 195189.  55181.  78480. 158803.  58614.\n",
            " 113770. 152751. 140210. 124532.  60921.  65042.  83234.  56303. 110586.\n",
            " 143937.  78406. 128209. 181247.  56240.  58426. 138964. 198561. 169275.\n",
            "  92489. 159528. 134074. 142907.  84096. 113873.  99713. 102124.  69641.\n",
            "  82892. 126027. 122743. 179698.  73205.  51821.  97395.  53409. 122020.\n",
            " 139287. 188124.  98915.  75549. 115507. 129292. 181516. 185635.  53125.\n",
            " 147390. 174551. 133172. 189910.  76183. 145215. 151405. 169730. 148125.\n",
            " 170247. 110757. 109576. 126341. 151369. 181681. 109908.  81929. 149721.\n",
            " 175605.  95412. 121315.]\n",
            "mileage missing values:\n",
            "7\n",
            "color unique values:\n",
            "['silver' 'black' 'red' 'white' 'blue' nan]\n",
            "color missing values:\n",
            "9\n",
            "last_service unique values:\n",
            "['04-03-2022' '2022-12-12' '2023/02/07' '10-05-2022' '2023/03/21'\n",
            " '2022/07/17' '2023-01-13*' '2022-10-05' '2022/08/10' '2022-10-12'\n",
            " '2022.06.24' '2022/11/06' '29-10-2022' '2022/06/12' nan '27-07-2022'\n",
            " '11/28/2022' '2023.03.04' '2023-01-22' '2022-06-05*' '24/07/2022*'\n",
            " '2022-09-27' '12/13/2022' '2022-05-24' '06-05-2022*' '2022-10-07'\n",
            " '13/08/2022' '2023/03/13' '27/08/2022' '10-21-2022' '01/18/2023'\n",
            " '08-30-2022' '28/06/2022' '05/09/2022' '08-02-2022' '03/04/2022'\n",
            " '2022-09-12' '2022/09/05' '06-12-2022' '2022/08/22' '03-08-2022'\n",
            " '08/17/2022' '2023/02/04' '04-04-2022' '05-30-2022' '11-12-2022'\n",
            " '12/02/2023' '03-22-2022' '06/09/2022*' '2022.04.26' '12/19/2022'\n",
            " '12-11-2022' '09/05/2022' '2022-09-03' '2023/02/16' '2022.10.24'\n",
            " '18/06/2022' '2022/12/23' '2022/10/10' '01-07-2022' '05-03-2022'\n",
            " '2022-12-29' '2022/05/12' '01/07/2023' '10-02-2022' '26-10-2022'\n",
            " '03/22/2022' '2022.04.16' '2022.03.23*' '2022.10.30' '2022.09.01'\n",
            " '07-25-2022' '05-11-2022' '2022/09/26' '14-08-2022' '2022.08.26'\n",
            " '2022.06.16' '04-02-2022' '2022-09-29' '2022-11-03' '2022-06-08'\n",
            " '2022/08/25' '07-20-2022' '2022.05.02*']\n",
            "last_service missing values:\n",
            "14\n"
          ]
        }
      ],
      "source": [
        "for column in df.columns:\n",
        "  print(f\"{column} unique values:\")\n",
        "  print(df[column].unique())\n",
        "  print(f\"{column} missing values:\")\n",
        "  print(df[column].isnull().sum())"
      ]
    },
    {
      "cell_type": "code",
      "execution_count": null,
      "metadata": {
        "id": "LipRFUXNwj1V"
      },
      "outputs": [],
      "source": [
        "df = df.applymap(lambda s: s.strip().lower() if type(s) == str else s)"
      ]
    },
    {
      "cell_type": "code",
      "execution_count": null,
      "metadata": {
        "colab": {
          "base_uri": "https://localhost:8080/"
        },
        "id": "jeS4531aw7SO",
        "outputId": "3c821c6a-b548-4526-962d-47194d74e5ea"
      },
      "outputs": [
        {
          "name": "stdout",
          "output_type": "stream",
          "text": [
            "        make   model    year   price   mileage   color last_service\n",
            "0        NaN  altima  2005.0  8406.0  133415.0  silver   04-03-2022\n",
            "1  chevrolet  accord  2015.0  7399.0   98017.0   black   2022-12-12\n",
            "2     toyota   camry  2016.0  2789.0   56615.0     red   2023/02/07\n",
            "3     toyota  altima  2007.0  8762.0  113933.0     red   10-05-2022\n",
            "4     toyota   focus  2016.0  2473.0  138524.0   black   2023/03/21\n"
          ]
        }
      ],
      "source": [
        "print(df.head())"
      ]
    },
    {
      "cell_type": "code",
      "execution_count": null,
      "metadata": {
        "id": "K5FG86lMxh5D"
      },
      "outputs": [],
      "source": [
        "model_to_make = {'focus': 'ford', 'accord': 'honda', 'malibu': 'cheverolet', 'altima': 'nissan', 'camry': 'toyota'}\n",
        "def fill_missing_make(row):\n",
        "  if pd.isnull(row['make']) and row['model'] in model_to_make:\n",
        "    row['make'] = model_to_make[row['model']]\n",
        "  return row\n",
        "df = df.apply(fill_missing_make,axis=1)"
      ]
    },
    {
      "cell_type": "code",
      "execution_count": null,
      "metadata": {
        "colab": {
          "base_uri": "https://localhost:8080/"
        },
        "id": "djpCqz6h2ao5",
        "outputId": "0da6b872-0d52-4863-c959-621913c7e67d"
      },
      "outputs": [
        {
          "name": "stdout",
          "output_type": "stream",
          "text": [
            "        make   model    year   price   mileage   color last_service\n",
            "0     nissan  altima  2005.0  8406.0  133415.0  silver   04-03-2022\n",
            "1  chevrolet  accord  2015.0  7399.0   98017.0   black   2022-12-12\n",
            "2     toyota   camry  2016.0  2789.0   56615.0     red   2023/02/07\n",
            "3     toyota  altima  2007.0  8762.0  113933.0     red   10-05-2022\n",
            "4     toyota   focus  2016.0  2473.0  138524.0   black   2023/03/21\n"
          ]
        }
      ],
      "source": [
        "print(df.head())"
      ]
    },
    {
      "cell_type": "code",
      "execution_count": null,
      "metadata": {
        "id": "sNhMfMvk3R8H"
      },
      "outputs": [],
      "source": [
        "df = df[df['price'] >=0]\n",
        "df = df[df['mileage']>=0]"
      ]
    },
    {
      "cell_type": "code",
      "execution_count": null,
      "metadata": {
        "colab": {
          "base_uri": "https://localhost:8080/"
        },
        "id": "H5bx0UHN339b",
        "outputId": "f0968cd8-bd59-487d-e740-b5ab5f2ccf21"
      },
      "outputs": [
        {
          "name": "stdout",
          "output_type": "stream",
          "text": [
            "<class 'pandas.core.frame.DataFrame'>\n",
            "Int64Index: 86 entries, 0 to 104\n",
            "Data columns (total 7 columns):\n",
            " #   Column        Non-Null Count  Dtype  \n",
            "---  ------        --------------  -----  \n",
            " 0   make          85 non-null     object \n",
            " 1   model         75 non-null     object \n",
            " 2   year          79 non-null     float64\n",
            " 3   price         86 non-null     float64\n",
            " 4   mileage       86 non-null     float64\n",
            " 5   color         81 non-null     object \n",
            " 6   last_service  77 non-null     object \n",
            "dtypes: float64(3), object(4)\n",
            "memory usage: 5.4+ KB\n",
            "None\n"
          ]
        }
      ],
      "source": [
        "print(df.info())"
      ]
    },
    {
      "cell_type": "code",
      "execution_count": null,
      "metadata": {
        "id": "AOV0Uwly4HgR"
      },
      "outputs": [],
      "source": [
        "from datetime import datetime\n",
        "def standardize(date_str):\n",
        "  if pd.isnull(date_str):\n",
        "    return None\n",
        "  date_formats = [ '%Y/%m/%d',\n",
        "        '%Y.%m.%d',\n",
        "        '%Y-%m-%d',\n",
        "        '%d-%m-%Y',\n",
        "        '%m-%d-%Y',\n",
        "        '%d/%m/%Y',\n",
        "        '%m/%d/%Y']\n",
        "  for date_format in date_formats:\n",
        "    try:\n",
        "      dt = datetime.strptime(date_str, date_format)\n",
        "      return dt.strftime(\"%Y-%m-%d\")\n",
        "    except ValueError:\n",
        "      pass\n",
        "  return None\n",
        "df['last_service'] = df['last_service'].apply(standardize)"
      ]
    },
    {
      "cell_type": "code",
      "execution_count": null,
      "metadata": {
        "colab": {
          "base_uri": "https://localhost:8080/"
        },
        "id": "wFkWxREG5807",
        "outputId": "388c0b4b-e931-42db-f868-b5b28c736ef4"
      },
      "outputs": [
        {
          "name": "stdout",
          "output_type": "stream",
          "text": [
            "        make   model    year   price   mileage   color last_service\n",
            "0     nissan  altima  2005.0  8406.0  133415.0  silver   2022-03-04\n",
            "1  chevrolet  accord  2015.0  7399.0   98017.0   black   2022-12-12\n",
            "2     toyota   camry  2016.0  2789.0   56615.0     red   2023-02-07\n",
            "3     toyota  altima  2007.0  8762.0  113933.0     red   2022-05-10\n",
            "4     toyota   focus  2016.0  2473.0  138524.0   black   2023-03-21\n"
          ]
        }
      ],
      "source": [
        "print(df.head())"
      ]
    },
    {
      "cell_type": "code",
      "execution_count": null,
      "metadata": {
        "colab": {
          "base_uri": "https://localhost:8080/"
        },
        "id": "PkJNVVrM6F_M",
        "outputId": "2293050a-f6af-4bfe-da74-cbbf4fdcdb20"
      },
      "outputs": [
        {
          "name": "stdout",
          "output_type": "stream",
          "text": [
            "Shamin Niazi\n"
          ]
        }
      ],
      "source": [
        "import re\n",
        "mystring =\"678998Sh@am1in N1iazi\"\n",
        "letters_only = re.sub(r'[^a-zA-Z\\s]','',mystring)\n",
        "print(letters_only)"
      ]
    },
    {
      "cell_type": "code",
      "execution_count": null,
      "metadata": {
        "colab": {
          "base_uri": "https://localhost:8080/"
        },
        "id": "t5enLZ407v8f",
        "outputId": "3e5130f8-3586-4d07-c0a2-75bd7779cab8"
      },
      "outputs": [
        {
          "name": "stdout",
          "output_type": "stream",
          "text": [
            "67899811\n"
          ]
        }
      ],
      "source": [
        "import re\n",
        "mystring =\"678998Sh@am1in N1iazi\"\n",
        "letters_only = re.sub(r'\\D','',mystring)\n",
        "print(letters_only)"
      ]
    },
    {
      "cell_type": "code",
      "execution_count": null,
      "metadata": {
        "id": "7Vp6_LtG9kDo"
      },
      "outputs": [],
      "source": [
        "df.to_csv('clean_cars.csv')"
      ]
    }
  ],
  "metadata": {
    "colab": {
      "provenance": []
    },
    "kernelspec": {
      "display_name": "Python 3",
      "name": "python3"
    },
    "language_info": {
      "name": "python"
    }
  },
  "nbformat": 4,
  "nbformat_minor": 0
}
