{
  "cells": [
    {
      "cell_type": "markdown",
      "source": [
        "# Outliers Detection"
      ],
      "metadata": {
        "id": "7oZLMQ6K-35E"
      }
    },
    {
      "cell_type": "markdown",
      "source": [
        "# What is an outlier?\n",
        "An outlier is a data point in a data set that is distant from all other observations. A data point that lies outside the overall distribution of the dataset."
      ],
      "metadata": {
        "id": "zeWaLBz6Q1JY"
      }
    },
    {
      "cell_type": "markdown",
      "source": [
        "#What are the criteria to identify an outlier?\n",
        "\n",
        "\n",
        "*   Data point that falls outside of 1.5 times of an interquartile range above the 3rd quartile and below the 1st quartile\n",
        "*   Data point that falls outside of 3 standard deviations. we can use a z score and if the z score falls outside of 2 standard deviation\n",
        "\n",
        "\n"
      ],
      "metadata": {
        "id": "OjjKRzPdQ7bU"
      }
    },
    {
      "cell_type": "markdown",
      "source": [
        "#What is the reason for an outlier to exists in a dataset?\n",
        "\n",
        "\n",
        "1.   Variability in the data\n",
        "2.   An experimental measurement error\n",
        "\n"
      ],
      "metadata": {
        "id": "KoCCfCGzRJgf"
      }
    },
    {
      "cell_type": "markdown",
      "source": [
        "# What are the impacts of having outliers in a dataset?\n",
        "\n",
        "\n",
        "1.   It causes various problems during our statistical analysis\n",
        "2.   It may cause a significant impact on the mean and the standard deviation\n",
        "\n"
      ],
      "metadata": {
        "id": "AvXbz92aRIC2"
      }
    },
    {
      "cell_type": "markdown",
      "source": [],
      "metadata": {
        "id": "Qn83-IAQRkMq"
      }
    },
    {
      "cell_type": "markdown",
      "source": [
        "# Various ways of finding the outlier.\n",
        "\n",
        "1.   Using scatter plots\n",
        "2.   Box plot\n",
        "3.   using z score\n",
        "4.   using the IQR interquantile range\n",
        "\n",
        "\n",
        "\n"
      ],
      "metadata": {
        "id": "UgF34bJbRaMm"
      }
    },
    {
      "cell_type": "code",
      "execution_count": null,
      "metadata": {
        "id": "ikuGDOw5-PFG"
      },
      "outputs": [],
      "source": [
        "import numpy as np\n",
        "import pandas as pd"
      ]
    },
    {
      "cell_type": "code",
      "execution_count": null,
      "metadata": {
        "id": "_9E8Yqye-PFN",
        "colab": {
          "base_uri": "https://localhost:8080/",
          "height": 338
        },
        "outputId": "d88c2a57-f3a9-4a9b-c5e4-5269554d0eda"
      },
      "outputs": [
        {
          "output_type": "error",
          "ename": "FileNotFoundError",
          "evalue": "ignored",
          "traceback": [
            "\u001b[0;31m---------------------------------------------------------------------------\u001b[0m",
            "\u001b[0;31mFileNotFoundError\u001b[0m                         Traceback (most recent call last)",
            "\u001b[0;32m<ipython-input-6-48d4e5e90a08>\u001b[0m in \u001b[0;36m<cell line: 1>\u001b[0;34m()\u001b[0m\n\u001b[0;32m----> 1\u001b[0;31m \u001b[0mdf\u001b[0m \u001b[0;34m=\u001b[0m \u001b[0mpd\u001b[0m\u001b[0;34m.\u001b[0m\u001b[0mread_csv\u001b[0m\u001b[0;34m(\u001b[0m\u001b[0;34m'Results.csv'\u001b[0m\u001b[0;34m)\u001b[0m\u001b[0;34m\u001b[0m\u001b[0;34m\u001b[0m\u001b[0m\n\u001b[0m",
            "\u001b[0;32m/usr/local/lib/python3.10/dist-packages/pandas/util/_decorators.py\u001b[0m in \u001b[0;36mwrapper\u001b[0;34m(*args, **kwargs)\u001b[0m\n\u001b[1;32m    209\u001b[0m                 \u001b[0;32melse\u001b[0m\u001b[0;34m:\u001b[0m\u001b[0;34m\u001b[0m\u001b[0;34m\u001b[0m\u001b[0m\n\u001b[1;32m    210\u001b[0m                     \u001b[0mkwargs\u001b[0m\u001b[0;34m[\u001b[0m\u001b[0mnew_arg_name\u001b[0m\u001b[0;34m]\u001b[0m \u001b[0;34m=\u001b[0m \u001b[0mnew_arg_value\u001b[0m\u001b[0;34m\u001b[0m\u001b[0;34m\u001b[0m\u001b[0m\n\u001b[0;32m--> 211\u001b[0;31m             \u001b[0;32mreturn\u001b[0m \u001b[0mfunc\u001b[0m\u001b[0;34m(\u001b[0m\u001b[0;34m*\u001b[0m\u001b[0margs\u001b[0m\u001b[0;34m,\u001b[0m \u001b[0;34m**\u001b[0m\u001b[0mkwargs\u001b[0m\u001b[0;34m)\u001b[0m\u001b[0;34m\u001b[0m\u001b[0;34m\u001b[0m\u001b[0m\n\u001b[0m\u001b[1;32m    212\u001b[0m \u001b[0;34m\u001b[0m\u001b[0m\n\u001b[1;32m    213\u001b[0m         \u001b[0;32mreturn\u001b[0m \u001b[0mcast\u001b[0m\u001b[0;34m(\u001b[0m\u001b[0mF\u001b[0m\u001b[0;34m,\u001b[0m \u001b[0mwrapper\u001b[0m\u001b[0;34m)\u001b[0m\u001b[0;34m\u001b[0m\u001b[0;34m\u001b[0m\u001b[0m\n",
            "\u001b[0;32m/usr/local/lib/python3.10/dist-packages/pandas/util/_decorators.py\u001b[0m in \u001b[0;36mwrapper\u001b[0;34m(*args, **kwargs)\u001b[0m\n\u001b[1;32m    329\u001b[0m                     \u001b[0mstacklevel\u001b[0m\u001b[0;34m=\u001b[0m\u001b[0mfind_stack_level\u001b[0m\u001b[0;34m(\u001b[0m\u001b[0;34m)\u001b[0m\u001b[0;34m,\u001b[0m\u001b[0;34m\u001b[0m\u001b[0;34m\u001b[0m\u001b[0m\n\u001b[1;32m    330\u001b[0m                 )\n\u001b[0;32m--> 331\u001b[0;31m             \u001b[0;32mreturn\u001b[0m \u001b[0mfunc\u001b[0m\u001b[0;34m(\u001b[0m\u001b[0;34m*\u001b[0m\u001b[0margs\u001b[0m\u001b[0;34m,\u001b[0m \u001b[0;34m**\u001b[0m\u001b[0mkwargs\u001b[0m\u001b[0;34m)\u001b[0m\u001b[0;34m\u001b[0m\u001b[0;34m\u001b[0m\u001b[0m\n\u001b[0m\u001b[1;32m    332\u001b[0m \u001b[0;34m\u001b[0m\u001b[0m\n\u001b[1;32m    333\u001b[0m         \u001b[0;31m# error: \"Callable[[VarArg(Any), KwArg(Any)], Any]\" has no\u001b[0m\u001b[0;34m\u001b[0m\u001b[0;34m\u001b[0m\u001b[0m\n",
            "\u001b[0;32m/usr/local/lib/python3.10/dist-packages/pandas/io/parsers/readers.py\u001b[0m in \u001b[0;36mread_csv\u001b[0;34m(filepath_or_buffer, sep, delimiter, header, names, index_col, usecols, squeeze, prefix, mangle_dupe_cols, dtype, engine, converters, true_values, false_values, skipinitialspace, skiprows, skipfooter, nrows, na_values, keep_default_na, na_filter, verbose, skip_blank_lines, parse_dates, infer_datetime_format, keep_date_col, date_parser, dayfirst, cache_dates, iterator, chunksize, compression, thousands, decimal, lineterminator, quotechar, quoting, doublequote, escapechar, comment, encoding, encoding_errors, dialect, error_bad_lines, warn_bad_lines, on_bad_lines, delim_whitespace, low_memory, memory_map, float_precision, storage_options)\u001b[0m\n\u001b[1;32m    948\u001b[0m     \u001b[0mkwds\u001b[0m\u001b[0;34m.\u001b[0m\u001b[0mupdate\u001b[0m\u001b[0;34m(\u001b[0m\u001b[0mkwds_defaults\u001b[0m\u001b[0;34m)\u001b[0m\u001b[0;34m\u001b[0m\u001b[0;34m\u001b[0m\u001b[0m\n\u001b[1;32m    949\u001b[0m \u001b[0;34m\u001b[0m\u001b[0m\n\u001b[0;32m--> 950\u001b[0;31m     \u001b[0;32mreturn\u001b[0m \u001b[0m_read\u001b[0m\u001b[0;34m(\u001b[0m\u001b[0mfilepath_or_buffer\u001b[0m\u001b[0;34m,\u001b[0m \u001b[0mkwds\u001b[0m\u001b[0;34m)\u001b[0m\u001b[0;34m\u001b[0m\u001b[0;34m\u001b[0m\u001b[0m\n\u001b[0m\u001b[1;32m    951\u001b[0m \u001b[0;34m\u001b[0m\u001b[0m\n\u001b[1;32m    952\u001b[0m \u001b[0;34m\u001b[0m\u001b[0m\n",
            "\u001b[0;32m/usr/local/lib/python3.10/dist-packages/pandas/io/parsers/readers.py\u001b[0m in \u001b[0;36m_read\u001b[0;34m(filepath_or_buffer, kwds)\u001b[0m\n\u001b[1;32m    603\u001b[0m \u001b[0;34m\u001b[0m\u001b[0m\n\u001b[1;32m    604\u001b[0m     \u001b[0;31m# Create the parser.\u001b[0m\u001b[0;34m\u001b[0m\u001b[0;34m\u001b[0m\u001b[0m\n\u001b[0;32m--> 605\u001b[0;31m     \u001b[0mparser\u001b[0m \u001b[0;34m=\u001b[0m \u001b[0mTextFileReader\u001b[0m\u001b[0;34m(\u001b[0m\u001b[0mfilepath_or_buffer\u001b[0m\u001b[0;34m,\u001b[0m \u001b[0;34m**\u001b[0m\u001b[0mkwds\u001b[0m\u001b[0;34m)\u001b[0m\u001b[0;34m\u001b[0m\u001b[0;34m\u001b[0m\u001b[0m\n\u001b[0m\u001b[1;32m    606\u001b[0m \u001b[0;34m\u001b[0m\u001b[0m\n\u001b[1;32m    607\u001b[0m     \u001b[0;32mif\u001b[0m \u001b[0mchunksize\u001b[0m \u001b[0;32mor\u001b[0m \u001b[0miterator\u001b[0m\u001b[0;34m:\u001b[0m\u001b[0;34m\u001b[0m\u001b[0;34m\u001b[0m\u001b[0m\n",
            "\u001b[0;32m/usr/local/lib/python3.10/dist-packages/pandas/io/parsers/readers.py\u001b[0m in \u001b[0;36m__init__\u001b[0;34m(self, f, engine, **kwds)\u001b[0m\n\u001b[1;32m   1440\u001b[0m \u001b[0;34m\u001b[0m\u001b[0m\n\u001b[1;32m   1441\u001b[0m         \u001b[0mself\u001b[0m\u001b[0;34m.\u001b[0m\u001b[0mhandles\u001b[0m\u001b[0;34m:\u001b[0m \u001b[0mIOHandles\u001b[0m \u001b[0;34m|\u001b[0m \u001b[0;32mNone\u001b[0m \u001b[0;34m=\u001b[0m \u001b[0;32mNone\u001b[0m\u001b[0;34m\u001b[0m\u001b[0;34m\u001b[0m\u001b[0m\n\u001b[0;32m-> 1442\u001b[0;31m         \u001b[0mself\u001b[0m\u001b[0;34m.\u001b[0m\u001b[0m_engine\u001b[0m \u001b[0;34m=\u001b[0m \u001b[0mself\u001b[0m\u001b[0;34m.\u001b[0m\u001b[0m_make_engine\u001b[0m\u001b[0;34m(\u001b[0m\u001b[0mf\u001b[0m\u001b[0;34m,\u001b[0m \u001b[0mself\u001b[0m\u001b[0;34m.\u001b[0m\u001b[0mengine\u001b[0m\u001b[0;34m)\u001b[0m\u001b[0;34m\u001b[0m\u001b[0;34m\u001b[0m\u001b[0m\n\u001b[0m\u001b[1;32m   1443\u001b[0m \u001b[0;34m\u001b[0m\u001b[0m\n\u001b[1;32m   1444\u001b[0m     \u001b[0;32mdef\u001b[0m \u001b[0mclose\u001b[0m\u001b[0;34m(\u001b[0m\u001b[0mself\u001b[0m\u001b[0;34m)\u001b[0m \u001b[0;34m->\u001b[0m \u001b[0;32mNone\u001b[0m\u001b[0;34m:\u001b[0m\u001b[0;34m\u001b[0m\u001b[0;34m\u001b[0m\u001b[0m\n",
            "\u001b[0;32m/usr/local/lib/python3.10/dist-packages/pandas/io/parsers/readers.py\u001b[0m in \u001b[0;36m_make_engine\u001b[0;34m(self, f, engine)\u001b[0m\n\u001b[1;32m   1733\u001b[0m                 \u001b[0;32mif\u001b[0m \u001b[0;34m\"b\"\u001b[0m \u001b[0;32mnot\u001b[0m \u001b[0;32min\u001b[0m \u001b[0mmode\u001b[0m\u001b[0;34m:\u001b[0m\u001b[0;34m\u001b[0m\u001b[0;34m\u001b[0m\u001b[0m\n\u001b[1;32m   1734\u001b[0m                     \u001b[0mmode\u001b[0m \u001b[0;34m+=\u001b[0m \u001b[0;34m\"b\"\u001b[0m\u001b[0;34m\u001b[0m\u001b[0;34m\u001b[0m\u001b[0m\n\u001b[0;32m-> 1735\u001b[0;31m             self.handles = get_handle(\n\u001b[0m\u001b[1;32m   1736\u001b[0m                 \u001b[0mf\u001b[0m\u001b[0;34m,\u001b[0m\u001b[0;34m\u001b[0m\u001b[0;34m\u001b[0m\u001b[0m\n\u001b[1;32m   1737\u001b[0m                 \u001b[0mmode\u001b[0m\u001b[0;34m,\u001b[0m\u001b[0;34m\u001b[0m\u001b[0;34m\u001b[0m\u001b[0m\n",
            "\u001b[0;32m/usr/local/lib/python3.10/dist-packages/pandas/io/common.py\u001b[0m in \u001b[0;36mget_handle\u001b[0;34m(path_or_buf, mode, encoding, compression, memory_map, is_text, errors, storage_options)\u001b[0m\n\u001b[1;32m    854\u001b[0m         \u001b[0;32mif\u001b[0m \u001b[0mioargs\u001b[0m\u001b[0;34m.\u001b[0m\u001b[0mencoding\u001b[0m \u001b[0;32mand\u001b[0m \u001b[0;34m\"b\"\u001b[0m \u001b[0;32mnot\u001b[0m \u001b[0;32min\u001b[0m \u001b[0mioargs\u001b[0m\u001b[0;34m.\u001b[0m\u001b[0mmode\u001b[0m\u001b[0;34m:\u001b[0m\u001b[0;34m\u001b[0m\u001b[0;34m\u001b[0m\u001b[0m\n\u001b[1;32m    855\u001b[0m             \u001b[0;31m# Encoding\u001b[0m\u001b[0;34m\u001b[0m\u001b[0;34m\u001b[0m\u001b[0m\n\u001b[0;32m--> 856\u001b[0;31m             handle = open(\n\u001b[0m\u001b[1;32m    857\u001b[0m                 \u001b[0mhandle\u001b[0m\u001b[0;34m,\u001b[0m\u001b[0;34m\u001b[0m\u001b[0;34m\u001b[0m\u001b[0m\n\u001b[1;32m    858\u001b[0m                 \u001b[0mioargs\u001b[0m\u001b[0;34m.\u001b[0m\u001b[0mmode\u001b[0m\u001b[0;34m,\u001b[0m\u001b[0;34m\u001b[0m\u001b[0;34m\u001b[0m\u001b[0m\n",
            "\u001b[0;31mFileNotFoundError\u001b[0m: [Errno 2] No such file or directory: 'Results.csv'"
          ]
        }
      ],
      "source": [
        "df = pd.read_csv('Results.csv')"
      ]
    },
    {
      "cell_type": "code",
      "execution_count": null,
      "metadata": {
        "colab": {
          "base_uri": "https://localhost:8080/",
          "height": 206
        },
        "id": "IbdTzSKE-PFP",
        "outputId": "93b4e903-89a3-40f6-aac4-cf4744fcb043"
      },
      "outputs": [
        {
          "output_type": "execute_result",
          "data": {
            "text/plain": [
              "   cgpa  placement_exam_marks  placed\n",
              "0  7.19                  26.0       1\n",
              "1  7.46                  38.0       1\n",
              "2  7.54                  40.0       1\n",
              "3  6.42                   8.0       1\n",
              "4  7.23                  17.0       0"
            ],
            "text/html": [
              "\n",
              "  <div id=\"df-720d849c-c501-46af-9210-5ce492d57e9c\">\n",
              "    <div class=\"colab-df-container\">\n",
              "      <div>\n",
              "<style scoped>\n",
              "    .dataframe tbody tr th:only-of-type {\n",
              "        vertical-align: middle;\n",
              "    }\n",
              "\n",
              "    .dataframe tbody tr th {\n",
              "        vertical-align: top;\n",
              "    }\n",
              "\n",
              "    .dataframe thead th {\n",
              "        text-align: right;\n",
              "    }\n",
              "</style>\n",
              "<table border=\"1\" class=\"dataframe\">\n",
              "  <thead>\n",
              "    <tr style=\"text-align: right;\">\n",
              "      <th></th>\n",
              "      <th>cgpa</th>\n",
              "      <th>placement_exam_marks</th>\n",
              "      <th>placed</th>\n",
              "    </tr>\n",
              "  </thead>\n",
              "  <tbody>\n",
              "    <tr>\n",
              "      <th>0</th>\n",
              "      <td>7.19</td>\n",
              "      <td>26.0</td>\n",
              "      <td>1</td>\n",
              "    </tr>\n",
              "    <tr>\n",
              "      <th>1</th>\n",
              "      <td>7.46</td>\n",
              "      <td>38.0</td>\n",
              "      <td>1</td>\n",
              "    </tr>\n",
              "    <tr>\n",
              "      <th>2</th>\n",
              "      <td>7.54</td>\n",
              "      <td>40.0</td>\n",
              "      <td>1</td>\n",
              "    </tr>\n",
              "    <tr>\n",
              "      <th>3</th>\n",
              "      <td>6.42</td>\n",
              "      <td>8.0</td>\n",
              "      <td>1</td>\n",
              "    </tr>\n",
              "    <tr>\n",
              "      <th>4</th>\n",
              "      <td>7.23</td>\n",
              "      <td>17.0</td>\n",
              "      <td>0</td>\n",
              "    </tr>\n",
              "  </tbody>\n",
              "</table>\n",
              "</div>\n",
              "      <button class=\"colab-df-convert\" onclick=\"convertToInteractive('df-720d849c-c501-46af-9210-5ce492d57e9c')\"\n",
              "              title=\"Convert this dataframe to an interactive table.\"\n",
              "              style=\"display:none;\">\n",
              "        \n",
              "  <svg xmlns=\"http://www.w3.org/2000/svg\" height=\"24px\"viewBox=\"0 0 24 24\"\n",
              "       width=\"24px\">\n",
              "    <path d=\"M0 0h24v24H0V0z\" fill=\"none\"/>\n",
              "    <path d=\"M18.56 5.44l.94 2.06.94-2.06 2.06-.94-2.06-.94-.94-2.06-.94 2.06-2.06.94zm-11 1L8.5 8.5l.94-2.06 2.06-.94-2.06-.94L8.5 2.5l-.94 2.06-2.06.94zm10 10l.94 2.06.94-2.06 2.06-.94-2.06-.94-.94-2.06-.94 2.06-2.06.94z\"/><path d=\"M17.41 7.96l-1.37-1.37c-.4-.4-.92-.59-1.43-.59-.52 0-1.04.2-1.43.59L10.3 9.45l-7.72 7.72c-.78.78-.78 2.05 0 2.83L4 21.41c.39.39.9.59 1.41.59.51 0 1.02-.2 1.41-.59l7.78-7.78 2.81-2.81c.8-.78.8-2.07 0-2.86zM5.41 20L4 18.59l7.72-7.72 1.47 1.35L5.41 20z\"/>\n",
              "  </svg>\n",
              "      </button>\n",
              "      \n",
              "  <style>\n",
              "    .colab-df-container {\n",
              "      display:flex;\n",
              "      flex-wrap:wrap;\n",
              "      gap: 12px;\n",
              "    }\n",
              "\n",
              "    .colab-df-convert {\n",
              "      background-color: #E8F0FE;\n",
              "      border: none;\n",
              "      border-radius: 50%;\n",
              "      cursor: pointer;\n",
              "      display: none;\n",
              "      fill: #1967D2;\n",
              "      height: 32px;\n",
              "      padding: 0 0 0 0;\n",
              "      width: 32px;\n",
              "    }\n",
              "\n",
              "    .colab-df-convert:hover {\n",
              "      background-color: #E2EBFA;\n",
              "      box-shadow: 0px 1px 2px rgba(60, 64, 67, 0.3), 0px 1px 3px 1px rgba(60, 64, 67, 0.15);\n",
              "      fill: #174EA6;\n",
              "    }\n",
              "\n",
              "    [theme=dark] .colab-df-convert {\n",
              "      background-color: #3B4455;\n",
              "      fill: #D2E3FC;\n",
              "    }\n",
              "\n",
              "    [theme=dark] .colab-df-convert:hover {\n",
              "      background-color: #434B5C;\n",
              "      box-shadow: 0px 1px 3px 1px rgba(0, 0, 0, 0.15);\n",
              "      filter: drop-shadow(0px 1px 2px rgba(0, 0, 0, 0.3));\n",
              "      fill: #FFFFFF;\n",
              "    }\n",
              "  </style>\n",
              "\n",
              "      <script>\n",
              "        const buttonEl =\n",
              "          document.querySelector('#df-720d849c-c501-46af-9210-5ce492d57e9c button.colab-df-convert');\n",
              "        buttonEl.style.display =\n",
              "          google.colab.kernel.accessAllowed ? 'block' : 'none';\n",
              "\n",
              "        async function convertToInteractive(key) {\n",
              "          const element = document.querySelector('#df-720d849c-c501-46af-9210-5ce492d57e9c');\n",
              "          const dataTable =\n",
              "            await google.colab.kernel.invokeFunction('convertToInteractive',\n",
              "                                                     [key], {});\n",
              "          if (!dataTable) return;\n",
              "\n",
              "          const docLinkHtml = 'Like what you see? Visit the ' +\n",
              "            '<a target=\"_blank\" href=https://colab.research.google.com/notebooks/data_table.ipynb>data table notebook</a>'\n",
              "            + ' to learn more about interactive tables.';\n",
              "          element.innerHTML = '';\n",
              "          dataTable['output_type'] = 'display_data';\n",
              "          await google.colab.output.renderOutput(dataTable, element);\n",
              "          const docLink = document.createElement('div');\n",
              "          docLink.innerHTML = docLinkHtml;\n",
              "          element.appendChild(docLink);\n",
              "        }\n",
              "      </script>\n",
              "    </div>\n",
              "  </div>\n",
              "  "
            ]
          },
          "metadata": {},
          "execution_count": 31
        }
      ],
      "source": [
        "df.head()"
      ]
    },
    {
      "cell_type": "code",
      "source": [
        "df.describe()"
      ],
      "metadata": {
        "colab": {
          "base_uri": "https://localhost:8080/",
          "height": 300
        },
        "id": "CGkLjsZWE9gL",
        "outputId": "b97fef55-ba88-4d63-b9bc-03895cc20118"
      },
      "execution_count": null,
      "outputs": [
        {
          "output_type": "execute_result",
          "data": {
            "text/plain": [
              "              cgpa  placement_exam_marks       placed\n",
              "count  1000.000000           1000.000000  1000.000000\n",
              "mean      6.961240             32.225000     0.489000\n",
              "std       0.615898             19.130822     0.500129\n",
              "min       4.890000              0.000000     0.000000\n",
              "25%       6.550000             17.000000     0.000000\n",
              "50%       6.960000             28.000000     0.000000\n",
              "75%       7.370000             44.000000     1.000000\n",
              "max       9.120000            100.000000     1.000000"
            ],
            "text/html": [
              "\n",
              "  <div id=\"df-c7f0d563-de7e-4963-b1d6-0a7b46d6f550\">\n",
              "    <div class=\"colab-df-container\">\n",
              "      <div>\n",
              "<style scoped>\n",
              "    .dataframe tbody tr th:only-of-type {\n",
              "        vertical-align: middle;\n",
              "    }\n",
              "\n",
              "    .dataframe tbody tr th {\n",
              "        vertical-align: top;\n",
              "    }\n",
              "\n",
              "    .dataframe thead th {\n",
              "        text-align: right;\n",
              "    }\n",
              "</style>\n",
              "<table border=\"1\" class=\"dataframe\">\n",
              "  <thead>\n",
              "    <tr style=\"text-align: right;\">\n",
              "      <th></th>\n",
              "      <th>cgpa</th>\n",
              "      <th>placement_exam_marks</th>\n",
              "      <th>placed</th>\n",
              "    </tr>\n",
              "  </thead>\n",
              "  <tbody>\n",
              "    <tr>\n",
              "      <th>count</th>\n",
              "      <td>1000.000000</td>\n",
              "      <td>1000.000000</td>\n",
              "      <td>1000.000000</td>\n",
              "    </tr>\n",
              "    <tr>\n",
              "      <th>mean</th>\n",
              "      <td>6.961240</td>\n",
              "      <td>32.225000</td>\n",
              "      <td>0.489000</td>\n",
              "    </tr>\n",
              "    <tr>\n",
              "      <th>std</th>\n",
              "      <td>0.615898</td>\n",
              "      <td>19.130822</td>\n",
              "      <td>0.500129</td>\n",
              "    </tr>\n",
              "    <tr>\n",
              "      <th>min</th>\n",
              "      <td>4.890000</td>\n",
              "      <td>0.000000</td>\n",
              "      <td>0.000000</td>\n",
              "    </tr>\n",
              "    <tr>\n",
              "      <th>25%</th>\n",
              "      <td>6.550000</td>\n",
              "      <td>17.000000</td>\n",
              "      <td>0.000000</td>\n",
              "    </tr>\n",
              "    <tr>\n",
              "      <th>50%</th>\n",
              "      <td>6.960000</td>\n",
              "      <td>28.000000</td>\n",
              "      <td>0.000000</td>\n",
              "    </tr>\n",
              "    <tr>\n",
              "      <th>75%</th>\n",
              "      <td>7.370000</td>\n",
              "      <td>44.000000</td>\n",
              "      <td>1.000000</td>\n",
              "    </tr>\n",
              "    <tr>\n",
              "      <th>max</th>\n",
              "      <td>9.120000</td>\n",
              "      <td>100.000000</td>\n",
              "      <td>1.000000</td>\n",
              "    </tr>\n",
              "  </tbody>\n",
              "</table>\n",
              "</div>\n",
              "      <button class=\"colab-df-convert\" onclick=\"convertToInteractive('df-c7f0d563-de7e-4963-b1d6-0a7b46d6f550')\"\n",
              "              title=\"Convert this dataframe to an interactive table.\"\n",
              "              style=\"display:none;\">\n",
              "        \n",
              "  <svg xmlns=\"http://www.w3.org/2000/svg\" height=\"24px\"viewBox=\"0 0 24 24\"\n",
              "       width=\"24px\">\n",
              "    <path d=\"M0 0h24v24H0V0z\" fill=\"none\"/>\n",
              "    <path d=\"M18.56 5.44l.94 2.06.94-2.06 2.06-.94-2.06-.94-.94-2.06-.94 2.06-2.06.94zm-11 1L8.5 8.5l.94-2.06 2.06-.94-2.06-.94L8.5 2.5l-.94 2.06-2.06.94zm10 10l.94 2.06.94-2.06 2.06-.94-2.06-.94-.94-2.06-.94 2.06-2.06.94z\"/><path d=\"M17.41 7.96l-1.37-1.37c-.4-.4-.92-.59-1.43-.59-.52 0-1.04.2-1.43.59L10.3 9.45l-7.72 7.72c-.78.78-.78 2.05 0 2.83L4 21.41c.39.39.9.59 1.41.59.51 0 1.02-.2 1.41-.59l7.78-7.78 2.81-2.81c.8-.78.8-2.07 0-2.86zM5.41 20L4 18.59l7.72-7.72 1.47 1.35L5.41 20z\"/>\n",
              "  </svg>\n",
              "      </button>\n",
              "      \n",
              "  <style>\n",
              "    .colab-df-container {\n",
              "      display:flex;\n",
              "      flex-wrap:wrap;\n",
              "      gap: 12px;\n",
              "    }\n",
              "\n",
              "    .colab-df-convert {\n",
              "      background-color: #E8F0FE;\n",
              "      border: none;\n",
              "      border-radius: 50%;\n",
              "      cursor: pointer;\n",
              "      display: none;\n",
              "      fill: #1967D2;\n",
              "      height: 32px;\n",
              "      padding: 0 0 0 0;\n",
              "      width: 32px;\n",
              "    }\n",
              "\n",
              "    .colab-df-convert:hover {\n",
              "      background-color: #E2EBFA;\n",
              "      box-shadow: 0px 1px 2px rgba(60, 64, 67, 0.3), 0px 1px 3px 1px rgba(60, 64, 67, 0.15);\n",
              "      fill: #174EA6;\n",
              "    }\n",
              "\n",
              "    [theme=dark] .colab-df-convert {\n",
              "      background-color: #3B4455;\n",
              "      fill: #D2E3FC;\n",
              "    }\n",
              "\n",
              "    [theme=dark] .colab-df-convert:hover {\n",
              "      background-color: #434B5C;\n",
              "      box-shadow: 0px 1px 3px 1px rgba(0, 0, 0, 0.15);\n",
              "      filter: drop-shadow(0px 1px 2px rgba(0, 0, 0, 0.3));\n",
              "      fill: #FFFFFF;\n",
              "    }\n",
              "  </style>\n",
              "\n",
              "      <script>\n",
              "        const buttonEl =\n",
              "          document.querySelector('#df-c7f0d563-de7e-4963-b1d6-0a7b46d6f550 button.colab-df-convert');\n",
              "        buttonEl.style.display =\n",
              "          google.colab.kernel.accessAllowed ? 'block' : 'none';\n",
              "\n",
              "        async function convertToInteractive(key) {\n",
              "          const element = document.querySelector('#df-c7f0d563-de7e-4963-b1d6-0a7b46d6f550');\n",
              "          const dataTable =\n",
              "            await google.colab.kernel.invokeFunction('convertToInteractive',\n",
              "                                                     [key], {});\n",
              "          if (!dataTable) return;\n",
              "\n",
              "          const docLinkHtml = 'Like what you see? Visit the ' +\n",
              "            '<a target=\"_blank\" href=https://colab.research.google.com/notebooks/data_table.ipynb>data table notebook</a>'\n",
              "            + ' to learn more about interactive tables.';\n",
              "          element.innerHTML = '';\n",
              "          dataTable['output_type'] = 'display_data';\n",
              "          await google.colab.output.renderOutput(dataTable, element);\n",
              "          const docLink = document.createElement('div');\n",
              "          docLink.innerHTML = docLinkHtml;\n",
              "          element.appendChild(docLink);\n",
              "        }\n",
              "      </script>\n",
              "    </div>\n",
              "  </div>\n",
              "  "
            ]
          },
          "metadata": {},
          "execution_count": 32
        }
      ]
    },
    {
      "cell_type": "code",
      "execution_count": null,
      "metadata": {
        "colab": {
          "base_uri": "https://localhost:8080/"
        },
        "id": "4g171QJO-PFS",
        "outputId": "5acbf1f7-c51e-4f5b-9049-3bbc30b3c282"
      },
      "outputs": [
        {
          "output_type": "execute_result",
          "data": {
            "text/plain": [
              "(10000, 3)"
            ]
          },
          "metadata": {},
          "execution_count": 24
        }
      ],
      "source": [
        "df.shape"
      ]
    },
    {
      "cell_type": "code",
      "execution_count": null,
      "metadata": {
        "colab": {
          "base_uri": "https://localhost:8080/",
          "height": 667
        },
        "id": "4Xqk05xQ-PFU",
        "outputId": "17d3097f-81ac-4dae-a295-20dc52f6589a"
      },
      "outputs": [
        {
          "output_type": "stream",
          "name": "stderr",
          "text": [
            "<ipython-input-91-d5245f16797e>:2: UserWarning: \n",
            "\n",
            "`distplot` is a deprecated function and will be removed in seaborn v0.14.0.\n",
            "\n",
            "Please adapt your code to use either `displot` (a figure-level function with\n",
            "similar flexibility) or `histplot` (an axes-level function for histograms).\n",
            "\n",
            "For a guide to updating your code to use the new functions, please see\n",
            "https://gist.github.com/mwaskom/de44147ed2974457ad6372750bbe5751\n",
            "\n",
            "  sns.distplot(df['placement_exam_marks'])\n"
          ]
        },
        {
          "output_type": "execute_result",
          "data": {
            "text/plain": [
              "<Axes: xlabel='placement_exam_marks', ylabel='Density'>"
            ]
          },
          "metadata": {},
          "execution_count": 91
        },
        {
          "output_type": "display_data",
          "data": {
            "text/plain": [
              "<Figure size 640x480 with 1 Axes>"
            ],
            "image/png": "[encoded data removed]"
          },
          "metadata": {}
        }
      ],
      "source": [
        "import seaborn as sns\n",
        "sns.distplot(df['placement_exam_marks'])"
      ]
    },
    {
      "cell_type": "code",
      "execution_count": null,
      "metadata": {
        "colab": {
          "base_uri": "https://localhost:8080/",
          "height": 448
        },
        "id": "OPjDzC6v-PFW",
        "outputId": "d1e8bc5d-63c4-470d-b3a8-fa43fada3cde"
      },
      "outputs": [
        {
          "output_type": "execute_result",
          "data": {
            "text/plain": [
              "<Axes: >"
            ]
          },
          "metadata": {},
          "execution_count": 41
        },
        {
          "output_type": "display_data",
          "data": {
            "text/plain": [
              "<Figure size 640x480 with 1 Axes>"
            ],
            "image/png": "[encoded data removed]"
          },
          "metadata": {}
        }
      ],
      "source": [
        "sns.boxplot(df['placement_exam_marks'])"
      ]
    },
    {
      "cell_type": "markdown",
      "source": [
        "# Detecting outliers using InterQuantile Range\n",
        "75%- 25% values in a dataset\n",
        "\n",
        "# Steps\n",
        "1. Calculate first(q1) and third quartile(q3)\n",
        "2. Find interquartile range (q3-q1)\n",
        "3.Find lower bound q1*1.5\n",
        "4.Find upper bound q3*1.5\n",
        "\n",
        "\n",
        "\n",
        "\n",
        "Anything that lies outside of lower and upper bound is an outlier"
      ],
      "metadata": {
        "id": "xRPsG15TSIRZ"
      }
    },
    {
      "cell_type": "code",
      "execution_count": null,
      "metadata": {
        "id": "g-RcAYZL-PFY"
      },
      "outputs": [],
      "source": [
        "# Finding the IQR\n",
        "percentile25 = df['placement_exam_marks'].quantile(0.25)\n",
        "percentile75 = df['placement_exam_marks'].quantile(0.75)"
      ]
    },
    {
      "cell_type": "code",
      "execution_count": null,
      "metadata": {
        "colab": {
          "base_uri": "https://localhost:8080/"
        },
        "id": "xd77broH-PFZ",
        "outputId": "1d21138f-c949-461e-fe73-25c82f9efb25"
      },
      "outputs": [
        {
          "output_type": "execute_result",
          "data": {
            "text/plain": [
              "44.0"
            ]
          },
          "metadata": {},
          "execution_count": 43
        }
      ],
      "source": [
        "percentile75"
      ]
    },
    {
      "cell_type": "code",
      "execution_count": null,
      "metadata": {
        "id": "dWboB2xL-PFb"
      },
      "outputs": [],
      "source": [
        "iqr = percentile75 - percentile25"
      ]
    },
    {
      "cell_type": "code",
      "execution_count": null,
      "metadata": {
        "colab": {
          "base_uri": "https://localhost:8080/"
        },
        "id": "2GznLOwu-PFb",
        "outputId": "727e5610-4a07-4c73-dde3-0dff7b6b78bc"
      },
      "outputs": [
        {
          "output_type": "execute_result",
          "data": {
            "text/plain": [
              "27.0"
            ]
          },
          "metadata": {},
          "execution_count": 45
        }
      ],
      "source": [
        "iqr"
      ]
    },
    {
      "cell_type": "code",
      "execution_count": null,
      "metadata": {
        "id": "l9VJ2dv9-PFc"
      },
      "outputs": [],
      "source": [
        "upper_limit = percentile75 + 1.5 * iqr\n",
        "lower_limit = percentile25 - 1.5 * iqr"
      ]
    },
    {
      "cell_type": "code",
      "execution_count": null,
      "metadata": {
        "colab": {
          "base_uri": "https://localhost:8080/"
        },
        "id": "8A7DHEzL-PFd",
        "outputId": "0ac1caff-a785-4d58-b5b4-ce92d28baf92"
      },
      "outputs": [
        {
          "output_type": "stream",
          "name": "stdout",
          "text": [
            "Upper limit 84.5\n",
            "Lower limit -23.5\n"
          ]
        }
      ],
      "source": [
        "print(\"Upper limit\",upper_limit)\n",
        "print(\"Lower limit\",lower_limit)"
      ]
    },
    {
      "cell_type": "code",
      "execution_count": null,
      "metadata": {
        "colab": {
          "base_uri": "https://localhost:8080/",
          "height": 519
        },
        "id": "TnNI97eW-PFe",
        "outputId": "9f15ce20-fc83-449b-9bd1-9cab3d7e79f3"
      },
      "outputs": [
        {
          "output_type": "execute_result",
          "data": {
            "text/plain": [
              "     cgpa  placement_exam_marks  placed  cgpa_zscore\n",
              "9    7.75                  94.0       1     1.280667\n",
              "40   6.60                  86.0       1    -0.586526\n",
              "61   7.51                  86.0       0     0.890992\n",
              "134  6.33                  93.0       0    -1.024910\n",
              "162  7.80                  90.0       0     1.361849\n",
              "283  7.09                  87.0       0     0.209061\n",
              "290  8.38                  87.0       0     2.303564\n",
              "311  6.97                  87.0       1     0.014223\n",
              "324  6.64                  90.0       0    -0.521580\n",
              "630  6.56                  96.0       1    -0.651472\n",
              "685  6.05                  87.0       1    -1.479531\n",
              "730  6.14                  90.0       1    -1.333403\n",
              "771  7.31                  86.0       1     0.566263\n",
              "846  6.99                  97.0       0     0.046696\n",
              "917  5.95                 100.0       0    -1.641896"
            ],
            "text/html": [
              "\n",
              "  <div id=\"df-5f0c30bd-613c-4b3f-bc31-ab5b13f75637\">\n",
              "    <div class=\"colab-df-container\">\n",
              "      <div>\n",
              "<style scoped>\n",
              "    .dataframe tbody tr th:only-of-type {\n",
              "        vertical-align: middle;\n",
              "    }\n",
              "\n",
              "    .dataframe tbody tr th {\n",
              "        vertical-align: top;\n",
              "    }\n",
              "\n",
              "    .dataframe thead th {\n",
              "        text-align: right;\n",
              "    }\n",
              "</style>\n",
              "<table border=\"1\" class=\"dataframe\">\n",
              "  <thead>\n",
              "    <tr style=\"text-align: right;\">\n",
              "      <th></th>\n",
              "      <th>cgpa</th>\n",
              "      <th>placement_exam_marks</th>\n",
              "      <th>placed</th>\n",
              "      <th>cgpa_zscore</th>\n",
              "    </tr>\n",
              "  </thead>\n",
              "  <tbody>\n",
              "    <tr>\n",
              "      <th>9</th>\n",
              "      <td>7.75</td>\n",
              "      <td>94.0</td>\n",
              "      <td>1</td>\n",
              "      <td>1.280667</td>\n",
              "    </tr>\n",
              "    <tr>\n",
              "      <th>40</th>\n",
              "      <td>6.60</td>\n",
              "      <td>86.0</td>\n",
              "      <td>1</td>\n",
              "      <td>-0.586526</td>\n",
              "    </tr>\n",
              "    <tr>\n",
              "      <th>61</th>\n",
              "      <td>7.51</td>\n",
              "      <td>86.0</td>\n",
              "      <td>0</td>\n",
              "      <td>0.890992</td>\n",
              "    </tr>\n",
              "    <tr>\n",
              "      <th>134</th>\n",
              "      <td>6.33</td>\n",
              "      <td>93.0</td>\n",
              "      <td>0</td>\n",
              "      <td>-1.024910</td>\n",
              "    </tr>\n",
              "    <tr>\n",
              "      <th>162</th>\n",
              "      <td>7.80</td>\n",
              "      <td>90.0</td>\n",
              "      <td>0</td>\n",
              "      <td>1.361849</td>\n",
              "    </tr>\n",
              "    <tr>\n",
              "      <th>283</th>\n",
              "      <td>7.09</td>\n",
              "      <td>87.0</td>\n",
              "      <td>0</td>\n",
              "      <td>0.209061</td>\n",
              "    </tr>\n",
              "    <tr>\n",
              "      <th>290</th>\n",
              "      <td>8.38</td>\n",
              "      <td>87.0</td>\n",
              "      <td>0</td>\n",
              "      <td>2.303564</td>\n",
              "    </tr>\n",
              "    <tr>\n",
              "      <th>311</th>\n",
              "      <td>6.97</td>\n",
              "      <td>87.0</td>\n",
              "      <td>1</td>\n",
              "      <td>0.014223</td>\n",
              "    </tr>\n",
              "    <tr>\n",
              "      <th>324</th>\n",
              "      <td>6.64</td>\n",
              "      <td>90.0</td>\n",
              "      <td>0</td>\n",
              "      <td>-0.521580</td>\n",
              "    </tr>\n",
              "    <tr>\n",
              "      <th>630</th>\n",
              "      <td>6.56</td>\n",
              "      <td>96.0</td>\n",
              "      <td>1</td>\n",
              "      <td>-0.651472</td>\n",
              "    </tr>\n",
              "    <tr>\n",
              "      <th>685</th>\n",
              "      <td>6.05</td>\n",
              "      <td>87.0</td>\n",
              "      <td>1</td>\n",
              "      <td>-1.479531</td>\n",
              "    </tr>\n",
              "    <tr>\n",
              "      <th>730</th>\n",
              "      <td>6.14</td>\n",
              "      <td>90.0</td>\n",
              "      <td>1</td>\n",
              "      <td>-1.333403</td>\n",
              "    </tr>\n",
              "    <tr>\n",
              "      <th>771</th>\n",
              "      <td>7.31</td>\n",
              "      <td>86.0</td>\n",
              "      <td>1</td>\n",
              "      <td>0.566263</td>\n",
              "    </tr>\n",
              "    <tr>\n",
              "      <th>846</th>\n",
              "      <td>6.99</td>\n",
              "      <td>97.0</td>\n",
              "      <td>0</td>\n",
              "      <td>0.046696</td>\n",
              "    </tr>\n",
              "    <tr>\n",
              "      <th>917</th>\n",
              "      <td>5.95</td>\n",
              "      <td>100.0</td>\n",
              "      <td>0</td>\n",
              "      <td>-1.641896</td>\n",
              "    </tr>\n",
              "  </tbody>\n",
              "</table>\n",
              "</div>\n",
              "      <button class=\"colab-df-convert\" onclick=\"convertToInteractive('df-5f0c30bd-613c-4b3f-bc31-ab5b13f75637')\"\n",
              "              title=\"Convert this dataframe to an interactive table.\"\n",
              "              style=\"display:none;\">\n",
              "        \n",
              "  <svg xmlns=\"http://www.w3.org/2000/svg\" height=\"24px\"viewBox=\"0 0 24 24\"\n",
              "       width=\"24px\">\n",
              "    <path d=\"M0 0h24v24H0V0z\" fill=\"none\"/>\n",
              "    <path d=\"M18.56 5.44l.94 2.06.94-2.06 2.06-.94-2.06-.94-.94-2.06-.94 2.06-2.06.94zm-11 1L8.5 8.5l.94-2.06 2.06-.94-2.06-.94L8.5 2.5l-.94 2.06-2.06.94zm10 10l.94 2.06.94-2.06 2.06-.94-2.06-.94-.94-2.06-.94 2.06-2.06.94z\"/><path d=\"M17.41 7.96l-1.37-1.37c-.4-.4-.92-.59-1.43-.59-.52 0-1.04.2-1.43.59L10.3 9.45l-7.72 7.72c-.78.78-.78 2.05 0 2.83L4 21.41c.39.39.9.59 1.41.59.51 0 1.02-.2 1.41-.59l7.78-7.78 2.81-2.81c.8-.78.8-2.07 0-2.86zM5.41 20L4 18.59l7.72-7.72 1.47 1.35L5.41 20z\"/>\n",
              "  </svg>\n",
              "      </button>\n",
              "      \n",
              "  <style>\n",
              "    .colab-df-container {\n",
              "      display:flex;\n",
              "      flex-wrap:wrap;\n",
              "      gap: 12px;\n",
              "    }\n",
              "\n",
              "    .colab-df-convert {\n",
              "      background-color: #E8F0FE;\n",
              "      border: none;\n",
              "      border-radius: 50%;\n",
              "      cursor: pointer;\n",
              "      display: none;\n",
              "      fill: #1967D2;\n",
              "      height: 32px;\n",
              "      padding: 0 0 0 0;\n",
              "      width: 32px;\n",
              "    }\n",
              "\n",
              "    .colab-df-convert:hover {\n",
              "      background-color: #E2EBFA;\n",
              "      box-shadow: 0px 1px 2px rgba(60, 64, 67, 0.3), 0px 1px 3px 1px rgba(60, 64, 67, 0.15);\n",
              "      fill: #174EA6;\n",
              "    }\n",
              "\n",
              "    [theme=dark] .colab-df-convert {\n",
              "      background-color: #3B4455;\n",
              "      fill: #D2E3FC;\n",
              "    }\n",
              "\n",
              "    [theme=dark] .colab-df-convert:hover {\n",
              "      background-color: #434B5C;\n",
              "      box-shadow: 0px 1px 3px 1px rgba(0, 0, 0, 0.15);\n",
              "      filter: drop-shadow(0px 1px 2px rgba(0, 0, 0, 0.3));\n",
              "      fill: #FFFFFF;\n",
              "    }\n",
              "  </style>\n",
              "\n",
              "      <script>\n",
              "        const buttonEl =\n",
              "          document.querySelector('#df-5f0c30bd-613c-4b3f-bc31-ab5b13f75637 button.colab-df-convert');\n",
              "        buttonEl.style.display =\n",
              "          google.colab.kernel.accessAllowed ? 'block' : 'none';\n",
              "\n",
              "        async function convertToInteractive(key) {\n",
              "          const element = document.querySelector('#df-5f0c30bd-613c-4b3f-bc31-ab5b13f75637');\n",
              "          const dataTable =\n",
              "            await google.colab.kernel.invokeFunction('convertToInteractive',\n",
              "                                                     [key], {});\n",
              "          if (!dataTable) return;\n",
              "\n",
              "          const docLinkHtml = 'Like what you see? Visit the ' +\n",
              "            '<a target=\"_blank\" href=https://colab.research.google.com/notebooks/data_table.ipynb>data table notebook</a>'\n",
              "            + ' to learn more about interactive tables.';\n",
              "          element.innerHTML = '';\n",
              "          dataTable['output_type'] = 'display_data';\n",
              "          await google.colab.output.renderOutput(dataTable, element);\n",
              "          const docLink = document.createElement('div');\n",
              "          docLink.innerHTML = docLinkHtml;\n",
              "          element.appendChild(docLink);\n",
              "        }\n",
              "      </script>\n",
              "    </div>\n",
              "  </div>\n",
              "  "
            ]
          },
          "metadata": {},
          "execution_count": 94
        }
      ],
      "source": [
        "df[df['placement_exam_marks'] > upper_limit]"
      ]
    },
    {
      "cell_type": "code",
      "execution_count": null,
      "metadata": {
        "colab": {
          "base_uri": "https://localhost:8080/",
          "height": 49
        },
        "id": "TxlxrUab-PFg",
        "outputId": "ed82f23b-5089-495e-e7b4-9fffb02836d1"
      },
      "outputs": [
        {
          "output_type": "execute_result",
          "data": {
            "text/plain": [
              "Empty DataFrame\n",
              "Columns: [cgpa, placement_exam_marks, placed, cgpa_zscore]\n",
              "Index: []"
            ],
            "text/html": [
              "\n",
              "  <div id=\"df-25db3ad3-4d70-4b30-9abf-eca8896b85cc\">\n",
              "    <div class=\"colab-df-container\">\n",
              "      <div>\n",
              "<style scoped>\n",
              "    .dataframe tbody tr th:only-of-type {\n",
              "        vertical-align: middle;\n",
              "    }\n",
              "\n",
              "    .dataframe tbody tr th {\n",
              "        vertical-align: top;\n",
              "    }\n",
              "\n",
              "    .dataframe thead th {\n",
              "        text-align: right;\n",
              "    }\n",
              "</style>\n",
              "<table border=\"1\" class=\"dataframe\">\n",
              "  <thead>\n",
              "    <tr style=\"text-align: right;\">\n",
              "      <th></th>\n",
              "      <th>cgpa</th>\n",
              "      <th>placement_exam_marks</th>\n",
              "      <th>placed</th>\n",
              "      <th>cgpa_zscore</th>\n",
              "    </tr>\n",
              "  </thead>\n",
              "  <tbody>\n",
              "  </tbody>\n",
              "</table>\n",
              "</div>\n",
              "      <button class=\"colab-df-convert\" onclick=\"convertToInteractive('df-25db3ad3-4d70-4b30-9abf-eca8896b85cc')\"\n",
              "              title=\"Convert this dataframe to an interactive table.\"\n",
              "              style=\"display:none;\">\n",
              "        \n",
              "  <svg xmlns=\"http://www.w3.org/2000/svg\" height=\"24px\"viewBox=\"0 0 24 24\"\n",
              "       width=\"24px\">\n",
              "    <path d=\"M0 0h24v24H0V0z\" fill=\"none\"/>\n",
              "    <path d=\"M18.56 5.44l.94 2.06.94-2.06 2.06-.94-2.06-.94-.94-2.06-.94 2.06-2.06.94zm-11 1L8.5 8.5l.94-2.06 2.06-.94-2.06-.94L8.5 2.5l-.94 2.06-2.06.94zm10 10l.94 2.06.94-2.06 2.06-.94-2.06-.94-.94-2.06-.94 2.06-2.06.94z\"/><path d=\"M17.41 7.96l-1.37-1.37c-.4-.4-.92-.59-1.43-.59-.52 0-1.04.2-1.43.59L10.3 9.45l-7.72 7.72c-.78.78-.78 2.05 0 2.83L4 21.41c.39.39.9.59 1.41.59.51 0 1.02-.2 1.41-.59l7.78-7.78 2.81-2.81c.8-.78.8-2.07 0-2.86zM5.41 20L4 18.59l7.72-7.72 1.47 1.35L5.41 20z\"/>\n",
              "  </svg>\n",
              "      </button>\n",
              "      \n",
              "  <style>\n",
              "    .colab-df-container {\n",
              "      display:flex;\n",
              "      flex-wrap:wrap;\n",
              "      gap: 12px;\n",
              "    }\n",
              "\n",
              "    .colab-df-convert {\n",
              "      background-color: #E8F0FE;\n",
              "      border: none;\n",
              "      border-radius: 50%;\n",
              "      cursor: pointer;\n",
              "      display: none;\n",
              "      fill: #1967D2;\n",
              "      height: 32px;\n",
              "      padding: 0 0 0 0;\n",
              "      width: 32px;\n",
              "    }\n",
              "\n",
              "    .colab-df-convert:hover {\n",
              "      background-color: #E2EBFA;\n",
              "      box-shadow: 0px 1px 2px rgba(60, 64, 67, 0.3), 0px 1px 3px 1px rgba(60, 64, 67, 0.15);\n",
              "      fill: #174EA6;\n",
              "    }\n",
              "\n",
              "    [theme=dark] .colab-df-convert {\n",
              "      background-color: #3B4455;\n",
              "      fill: #D2E3FC;\n",
              "    }\n",
              "\n",
              "    [theme=dark] .colab-df-convert:hover {\n",
              "      background-color: #434B5C;\n",
              "      box-shadow: 0px 1px 3px 1px rgba(0, 0, 0, 0.15);\n",
              "      filter: drop-shadow(0px 1px 2px rgba(0, 0, 0, 0.3));\n",
              "      fill: #FFFFFF;\n",
              "    }\n",
              "  </style>\n",
              "\n",
              "      <script>\n",
              "        const buttonEl =\n",
              "          document.querySelector('#df-25db3ad3-4d70-4b30-9abf-eca8896b85cc button.colab-df-convert');\n",
              "        buttonEl.style.display =\n",
              "          google.colab.kernel.accessAllowed ? 'block' : 'none';\n",
              "\n",
              "        async function convertToInteractive(key) {\n",
              "          const element = document.querySelector('#df-25db3ad3-4d70-4b30-9abf-eca8896b85cc');\n",
              "          const dataTable =\n",
              "            await google.colab.kernel.invokeFunction('convertToInteractive',\n",
              "                                                     [key], {});\n",
              "          if (!dataTable) return;\n",
              "\n",
              "          const docLinkHtml = 'Like what you see? Visit the ' +\n",
              "            '<a target=\"_blank\" href=https://colab.research.google.com/notebooks/data_table.ipynb>data table notebook</a>'\n",
              "            + ' to learn more about interactive tables.';\n",
              "          element.innerHTML = '';\n",
              "          dataTable['output_type'] = 'display_data';\n",
              "          await google.colab.output.renderOutput(dataTable, element);\n",
              "          const docLink = document.createElement('div');\n",
              "          docLink.innerHTML = docLinkHtml;\n",
              "          element.appendChild(docLink);\n",
              "        }\n",
              "      </script>\n",
              "    </div>\n",
              "  </div>\n",
              "  "
            ]
          },
          "metadata": {},
          "execution_count": 95
        }
      ],
      "source": [
        "df[df['placement_exam_marks'] < lower_limit]"
      ]
    },
    {
      "cell_type": "markdown",
      "source": [
        "## Removing Outliers by Trimming"
      ],
      "metadata": {
        "id": "1X1wbxNBNVVK"
      }
    },
    {
      "cell_type": "code",
      "execution_count": null,
      "metadata": {
        "id": "fvtylUIA-PFh"
      },
      "outputs": [],
      "source": [
        "new_df = df[df['placement_exam_marks'] < upper_limit]"
      ]
    },
    {
      "cell_type": "code",
      "source": [
        "new_df.shape"
      ],
      "metadata": {
        "colab": {
          "base_uri": "https://localhost:8080/"
        },
        "id": "T-wStesyNdN_",
        "outputId": "cb3eb8e8-6c56-4f85-936e-fb5c2cf87bf8"
      },
      "execution_count": null,
      "outputs": [
        {
          "output_type": "execute_result",
          "data": {
            "text/plain": [
              "(958, 3)"
            ]
          },
          "metadata": {},
          "execution_count": 55
        }
      ]
    },
    {
      "cell_type": "code",
      "source": [
        "# Comparing\n",
        "import matplotlib.pyplot as plt\n",
        "plt.figure(figsize=(16,6))\n",
        "plt.subplot(2,2,1)\n",
        "sns.distplot(df['placement_exam_marks'])\n",
        "\n",
        "plt.subplot(2,2,2)\n",
        "sns.boxplot(df['placement_exam_marks'])\n",
        "\n",
        "plt.subplot(2,2,3)\n",
        "sns.distplot(new_df['placement_exam_marks'])\n",
        "\n",
        "plt.subplot(2,2,4)\n",
        "sns.boxplot(new_df['placement_exam_marks'])\n",
        "\n",
        "plt.show()"
      ],
      "metadata": {
        "colab": {
          "base_uri": "https://localhost:8080/",
          "height": 930
        },
        "id": "BqJ6OMMhNep6",
        "outputId": "6116a9d2-4b95-45c9-e395-e53f9eef711f"
      },
      "execution_count": null,
      "outputs": [
        {
          "output_type": "stream",
          "name": "stderr",
          "text": [
            "<ipython-input-97-7d4fa38a9c8e>:5: UserWarning: \n",
            "\n",
            "`distplot` is a deprecated function and will be removed in seaborn v0.14.0.\n",
            "\n",
            "Please adapt your code to use either `displot` (a figure-level function with\n",
            "similar flexibility) or `histplot` (an axes-level function for histograms).\n",
            "\n",
            "For a guide to updating your code to use the new functions, please see\n",
            "https://gist.github.com/mwaskom/de44147ed2974457ad6372750bbe5751\n",
            "\n",
            "  sns.distplot(df['placement_exam_marks'])\n",
            "<ipython-input-97-7d4fa38a9c8e>:11: UserWarning: \n",
            "\n",
            "`distplot` is a deprecated function and will be removed in seaborn v0.14.0.\n",
            "\n",
            "Please adapt your code to use either `displot` (a figure-level function with\n",
            "similar flexibility) or `histplot` (an axes-level function for histograms).\n",
            "\n",
            "For a guide to updating your code to use the new functions, please see\n",
            "https://gist.github.com/mwaskom/de44147ed2974457ad6372750bbe5751\n",
            "\n",
            "  sns.distplot(new_df['placement_exam_marks'])\n"
          ]
        },
        {
          "output_type": "display_data",
          "data": {
            "text/plain": [
              "<Figure size 1600x600 with 4 Axes>"
            ],
            "image/png": "[encoded data removed]"
          },
          "metadata": {}
        }
      ]
    },
    {
      "cell_type": "markdown",
      "source": [
        "# Removing Outliers through Capping"
      ],
      "metadata": {
        "id": "cttzio1-N_Am"
      }
    },
    {
      "cell_type": "markdown",
      "source": [
        "implement this in same dataset by playing with threshold value for IQR"
      ],
      "metadata": {
        "id": "yxnLoXzHr690"
      }
    },
    {
      "cell_type": "code",
      "source": [
        "new_df_cap = df.copy()\n",
        "\n",
        "new_df_cap['placement_exam_marks'] = np.where(\n",
        "    new_df_cap['placement_exam_marks'] > upper_limit,\n",
        "    upper_limit,\n",
        "    np.where(\n",
        "        new_df_cap['placement_exam_marks'] < lower_limit,\n",
        "        lower_limit,\n",
        "        new_df_cap['placement_exam_marks']\n",
        "    )\n",
        ")"
      ],
      "metadata": {
        "id": "OXF4sNPGNkgk"
      },
      "execution_count": null,
      "outputs": []
    },
    {
      "cell_type": "code",
      "source": [
        "new_df_cap.shape"
      ],
      "metadata": {
        "colab": {
          "base_uri": "https://localhost:8080/"
        },
        "id": "mcY4LrfbODUn",
        "outputId": "216598dd-bcf3-4888-84dd-4336d0af00a4"
      },
      "execution_count": null,
      "outputs": [
        {
          "output_type": "execute_result",
          "data": {
            "text/plain": [
              "(1000, 3)"
            ]
          },
          "metadata": {},
          "execution_count": 64
        }
      ]
    },
    {
      "cell_type": "code",
      "source": [
        "# Comparing\n",
        "\n",
        "plt.figure(figsize=(14,8))\n",
        "plt.subplot(2,2,1)\n",
        "sns.distplot(df['placement_exam_marks'])\n",
        "\n",
        "plt.subplot(2,2,2)\n",
        "sns.boxplot(df['placement_exam_marks'])\n",
        "\n",
        "plt.subplot(2,2,3)\n",
        "sns.distplot(new_df_cap['placement_exam_marks'])\n",
        "\n",
        "plt.subplot(2,2,4)\n",
        "sns.boxplot(new_df_cap['placement_exam_marks'])\n",
        "\n",
        "plt.show()"
      ],
      "metadata": {
        "colab": {
          "base_uri": "https://localhost:8080/",
          "height": 1000
        },
        "id": "-FT4aEQNOSGF",
        "outputId": "41707247-e641-4e98-9901-e0d8c155c2b9"
      },
      "execution_count": null,
      "outputs": [
        {
          "output_type": "stream",
          "name": "stderr",
          "text": [
            "<ipython-input-98-d2c7037c8573>:5: UserWarning: \n",
            "\n",
            "`distplot` is a deprecated function and will be removed in seaborn v0.14.0.\n",
            "\n",
            "Please adapt your code to use either `displot` (a figure-level function with\n",
            "similar flexibility) or `histplot` (an axes-level function for histograms).\n",
            "\n",
            "For a guide to updating your code to use the new functions, please see\n",
            "https://gist.github.com/mwaskom/de44147ed2974457ad6372750bbe5751\n",
            "\n",
            "  sns.distplot(df['placement_exam_marks'])\n",
            "<ipython-input-98-d2c7037c8573>:11: UserWarning: \n",
            "\n",
            "`distplot` is a deprecated function and will be removed in seaborn v0.14.0.\n",
            "\n",
            "Please adapt your code to use either `displot` (a figure-level function with\n",
            "similar flexibility) or `histplot` (an axes-level function for histograms).\n",
            "\n",
            "For a guide to updating your code to use the new functions, please see\n",
            "https://gist.github.com/mwaskom/de44147ed2974457ad6372750bbe5751\n",
            "\n",
            "  sns.distplot(new_df_cap['placement_exam_marks'])\n"
          ]
        },
        {
          "output_type": "display_data",
          "data": {
            "text/plain": [
              "<Figure size 1400x800 with 4 Axes>"
            ],
            "image/png": "[encoded data removed]"
          },
          "metadata": {}
        }
      ]
    },
    {
      "cell_type": "markdown",
      "source": [
        "# Detecting Outliers using Z-Score Approach\n",
        "Formula for Z score = (Observation — Mean)/Standard Deviation\n",
        "\n",
        "z = (X — μ) / σ"
      ],
      "metadata": {
        "id": "hvJg3qiJOh5X"
      }
    },
    {
      "cell_type": "markdown",
      "source": [
        "![standard-normal-distribution-with-probabilities.webp](data:image/webp;base64,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)"
      ],
      "metadata": {
        "id": "Y6453ZQAPzna"
      }
    },
    {
      "cell_type": "code",
      "source": [
        "import matplotlib.pyplot as plt\n",
        "import seaborn as sns\n",
        "plt.figure(figsize=(16,5))\n",
        "plt.subplot(1,2,1)\n",
        "sns.distplot(df['cgpa'])"
      ],
      "metadata": {
        "colab": {
          "base_uri": "https://localhost:8080/",
          "height": 640
        },
        "id": "ANO0xhAKOVc8",
        "outputId": "4eb1e4e3-9799-4b74-e075-a50bc721a77b"
      },
      "execution_count": null,
      "outputs": [
        {
          "output_type": "error",
          "ename": "NameError",
          "evalue": "ignored",
          "traceback": [
            "\u001b[0;31m---------------------------------------------------------------------------\u001b[0m",
            "\u001b[0;31mNameError\u001b[0m                                 Traceback (most recent call last)",
            "\u001b[0;32m<ipython-input-3-b0dfe7b3d61e>\u001b[0m in \u001b[0;36m<cell line: 5>\u001b[0;34m()\u001b[0m\n\u001b[1;32m      3\u001b[0m \u001b[0mplt\u001b[0m\u001b[0;34m.\u001b[0m\u001b[0mfigure\u001b[0m\u001b[0;34m(\u001b[0m\u001b[0mfigsize\u001b[0m\u001b[0;34m=\u001b[0m\u001b[0;34m(\u001b[0m\u001b[0;36m16\u001b[0m\u001b[0;34m,\u001b[0m\u001b[0;36m5\u001b[0m\u001b[0;34m)\u001b[0m\u001b[0;34m)\u001b[0m\u001b[0;34m\u001b[0m\u001b[0;34m\u001b[0m\u001b[0m\n\u001b[1;32m      4\u001b[0m \u001b[0mplt\u001b[0m\u001b[0;34m.\u001b[0m\u001b[0msubplot\u001b[0m\u001b[0;34m(\u001b[0m\u001b[0;36m1\u001b[0m\u001b[0;34m,\u001b[0m\u001b[0;36m2\u001b[0m\u001b[0;34m,\u001b[0m\u001b[0;36m1\u001b[0m\u001b[0;34m)\u001b[0m\u001b[0;34m\u001b[0m\u001b[0;34m\u001b[0m\u001b[0m\n\u001b[0;32m----> 5\u001b[0;31m \u001b[0msns\u001b[0m\u001b[0;34m.\u001b[0m\u001b[0mdistplot\u001b[0m\u001b[0;34m(\u001b[0m\u001b[0mdf\u001b[0m\u001b[0;34m[\u001b[0m\u001b[0;34m'cgpa'\u001b[0m\u001b[0;34m]\u001b[0m\u001b[0;34m)\u001b[0m\u001b[0;34m\u001b[0m\u001b[0;34m\u001b[0m\u001b[0m\n\u001b[0m",
            "\u001b[0;31mNameError\u001b[0m: name 'df' is not defined"
          ]
        },
        {
          "output_type": "display_data",
          "data": {
            "text/plain": [
              "<Figure size 1600x500 with 1 Axes>"
            ],
            "image/png": "[encoded data removed]"
          },
          "metadata": {}
        }
      ]
    },
    {
      "cell_type": "code",
      "source": [
        "df['cgpa'].skew()"
      ],
      "metadata": {
        "colab": {
          "base_uri": "https://localhost:8080/"
        },
        "id": "fq019F4wOsFN",
        "outputId": "a649f596-e865-4c4f-e0c3-341b26ed38cc"
      },
      "execution_count": null,
      "outputs": [
        {
          "output_type": "execute_result",
          "data": {
            "text/plain": [
              "-0.014529938929314918"
            ]
          },
          "metadata": {},
          "execution_count": 72
        }
      ]
    },
    {
      "cell_type": "code",
      "source": [
        "print(\"Mean value of cgpa\",df['cgpa'].mean())\n",
        "print(\"Std value of cgpa\",df['cgpa'].std())\n",
        "print(\"Min value of cgpa\",df['cgpa'].min())\n",
        "print(\"Max value of cgpa\",df['cgpa'].max())"
      ],
      "metadata": {
        "colab": {
          "base_uri": "https://localhost:8080/"
        },
        "id": "4aiLJ3nxOukb",
        "outputId": "9e58be57-ffc0-4fb6-9f2b-0b577d3743e0"
      },
      "execution_count": null,
      "outputs": [
        {
          "output_type": "stream",
          "name": "stdout",
          "text": [
            "Mean value of cgpa 6.96124\n",
            "Std value of cgpa 0.6158978751323896\n",
            "Min value of cgpa 4.89\n",
            "Max value of cgpa 9.12\n"
          ]
        }
      ]
    },
    {
      "cell_type": "code",
      "source": [
        "# Finding the boundary values\n",
        "print(\"Highest allowed\",df['cgpa'].mean() + 3*df['cgpa'].std())\n",
        "print(\"Lowest allowed\",df['cgpa'].mean() - 3*df['cgpa'].std())"
      ],
      "metadata": {
        "colab": {
          "base_uri": "https://localhost:8080/"
        },
        "id": "z_lDC5f2PTIx",
        "outputId": "c4396205-d2b0-4357-e165-8c0024ee77d6"
      },
      "execution_count": null,
      "outputs": [
        {
          "output_type": "stream",
          "name": "stdout",
          "text": [
            "Highest allowed 8.808933625397168\n",
            "Lowest allowed 5.113546374602832\n"
          ]
        }
      ]
    },
    {
      "cell_type": "code",
      "source": [
        "# Finding the outliers\n",
        "df[(df['cgpa'] > 8.80) | (df['cgpa'] < 5.11)]"
      ],
      "metadata": {
        "colab": {
          "base_uri": "https://localhost:8080/",
          "height": 206
        },
        "id": "KU5qDHUhPWMa",
        "outputId": "4379a38f-9bfd-47d8-933e-a762ce6b1f69"
      },
      "execution_count": null,
      "outputs": [
        {
          "output_type": "execute_result",
          "data": {
            "text/plain": [
              "     cgpa  placement_exam_marks  placed\n",
              "485  4.92                  44.0       1\n",
              "995  8.87                  44.0       1\n",
              "996  9.12                  65.0       1\n",
              "997  4.89                  34.0       0\n",
              "999  4.90                  10.0       1"
            ],
            "text/html": [
              "\n",
              "  <div id=\"df-70d95127-a97f-4192-9aed-e710a7559514\">\n",
              "    <div class=\"colab-df-container\">\n",
              "      <div>\n",
              "<style scoped>\n",
              "    .dataframe tbody tr th:only-of-type {\n",
              "        vertical-align: middle;\n",
              "    }\n",
              "\n",
              "    .dataframe tbody tr th {\n",
              "        vertical-align: top;\n",
              "    }\n",
              "\n",
              "    .dataframe thead th {\n",
              "        text-align: right;\n",
              "    }\n",
              "</style>\n",
              "<table border=\"1\" class=\"dataframe\">\n",
              "  <thead>\n",
              "    <tr style=\"text-align: right;\">\n",
              "      <th></th>\n",
              "      <th>cgpa</th>\n",
              "      <th>placement_exam_marks</th>\n",
              "      <th>placed</th>\n",
              "    </tr>\n",
              "  </thead>\n",
              "  <tbody>\n",
              "    <tr>\n",
              "      <th>485</th>\n",
              "      <td>4.92</td>\n",
              "      <td>44.0</td>\n",
              "      <td>1</td>\n",
              "    </tr>\n",
              "    <tr>\n",
              "      <th>995</th>\n",
              "      <td>8.87</td>\n",
              "      <td>44.0</td>\n",
              "      <td>1</td>\n",
              "    </tr>\n",
              "    <tr>\n",
              "      <th>996</th>\n",
              "      <td>9.12</td>\n",
              "      <td>65.0</td>\n",
              "      <td>1</td>\n",
              "    </tr>\n",
              "    <tr>\n",
              "      <th>997</th>\n",
              "      <td>4.89</td>\n",
              "      <td>34.0</td>\n",
              "      <td>0</td>\n",
              "    </tr>\n",
              "    <tr>\n",
              "      <th>999</th>\n",
              "      <td>4.90</td>\n",
              "      <td>10.0</td>\n",
              "      <td>1</td>\n",
              "    </tr>\n",
              "  </tbody>\n",
              "</table>\n",
              "</div>\n",
              "      <button class=\"colab-df-convert\" onclick=\"convertToInteractive('df-70d95127-a97f-4192-9aed-e710a7559514')\"\n",
              "              title=\"Convert this dataframe to an interactive table.\"\n",
              "              style=\"display:none;\">\n",
              "        \n",
              "  <svg xmlns=\"http://www.w3.org/2000/svg\" height=\"24px\"viewBox=\"0 0 24 24\"\n",
              "       width=\"24px\">\n",
              "    <path d=\"M0 0h24v24H0V0z\" fill=\"none\"/>\n",
              "    <path d=\"M18.56 5.44l.94 2.06.94-2.06 2.06-.94-2.06-.94-.94-2.06-.94 2.06-2.06.94zm-11 1L8.5 8.5l.94-2.06 2.06-.94-2.06-.94L8.5 2.5l-.94 2.06-2.06.94zm10 10l.94 2.06.94-2.06 2.06-.94-2.06-.94-.94-2.06-.94 2.06-2.06.94z\"/><path d=\"M17.41 7.96l-1.37-1.37c-.4-.4-.92-.59-1.43-.59-.52 0-1.04.2-1.43.59L10.3 9.45l-7.72 7.72c-.78.78-.78 2.05 0 2.83L4 21.41c.39.39.9.59 1.41.59.51 0 1.02-.2 1.41-.59l7.78-7.78 2.81-2.81c.8-.78.8-2.07 0-2.86zM5.41 20L4 18.59l7.72-7.72 1.47 1.35L5.41 20z\"/>\n",
              "  </svg>\n",
              "      </button>\n",
              "      \n",
              "  <style>\n",
              "    .colab-df-container {\n",
              "      display:flex;\n",
              "      flex-wrap:wrap;\n",
              "      gap: 12px;\n",
              "    }\n",
              "\n",
              "    .colab-df-convert {\n",
              "      background-color: #E8F0FE;\n",
              "      border: none;\n",
              "      border-radius: 50%;\n",
              "      cursor: pointer;\n",
              "      display: none;\n",
              "      fill: #1967D2;\n",
              "      height: 32px;\n",
              "      padding: 0 0 0 0;\n",
              "      width: 32px;\n",
              "    }\n",
              "\n",
              "    .colab-df-convert:hover {\n",
              "      background-color: #E2EBFA;\n",
              "      box-shadow: 0px 1px 2px rgba(60, 64, 67, 0.3), 0px 1px 3px 1px rgba(60, 64, 67, 0.15);\n",
              "      fill: #174EA6;\n",
              "    }\n",
              "\n",
              "    [theme=dark] .colab-df-convert {\n",
              "      background-color: #3B4455;\n",
              "      fill: #D2E3FC;\n",
              "    }\n",
              "\n",
              "    [theme=dark] .colab-df-convert:hover {\n",
              "      background-color: #434B5C;\n",
              "      box-shadow: 0px 1px 3px 1px rgba(0, 0, 0, 0.15);\n",
              "      filter: drop-shadow(0px 1px 2px rgba(0, 0, 0, 0.3));\n",
              "      fill: #FFFFFF;\n",
              "    }\n",
              "  </style>\n",
              "\n",
              "      <script>\n",
              "        const buttonEl =\n",
              "          document.querySelector('#df-70d95127-a97f-4192-9aed-e710a7559514 button.colab-df-convert');\n",
              "        buttonEl.style.display =\n",
              "          google.colab.kernel.accessAllowed ? 'block' : 'none';\n",
              "\n",
              "        async function convertToInteractive(key) {\n",
              "          const element = document.querySelector('#df-70d95127-a97f-4192-9aed-e710a7559514');\n",
              "          const dataTable =\n",
              "            await google.colab.kernel.invokeFunction('convertToInteractive',\n",
              "                                                     [key], {});\n",
              "          if (!dataTable) return;\n",
              "\n",
              "          const docLinkHtml = 'Like what you see? Visit the ' +\n",
              "            '<a target=\"_blank\" href=https://colab.research.google.com/notebooks/data_table.ipynb>data table notebook</a>'\n",
              "            + ' to learn more about interactive tables.';\n",
              "          element.innerHTML = '';\n",
              "          dataTable['output_type'] = 'display_data';\n",
              "          await google.colab.output.renderOutput(dataTable, element);\n",
              "          const docLink = document.createElement('div');\n",
              "          docLink.innerHTML = docLinkHtml;\n",
              "          element.appendChild(docLink);\n",
              "        }\n",
              "      </script>\n",
              "    </div>\n",
              "  </div>\n",
              "  "
            ]
          },
          "metadata": {},
          "execution_count": 75
        }
      ]
    },
    {
      "cell_type": "markdown",
      "source": [
        "# Removing Outlier by Trimming"
      ],
      "metadata": {
        "id": "XD5s5DCXQAbG"
      }
    },
    {
      "cell_type": "code",
      "source": [
        "# Trimming\n",
        "new_df = df[(df['cgpa'] < 8.80) & (df['cgpa'] > 5.11)]\n",
        "new_df"
      ],
      "metadata": {
        "colab": {
          "base_uri": "https://localhost:8080/",
          "height": 423
        },
        "id": "ch0XogFoP-EL",
        "outputId": "ad1aab59-8c4f-4601-da09-593ff03dd3df"
      },
      "execution_count": null,
      "outputs": [
        {
          "output_type": "execute_result",
          "data": {
            "text/plain": [
              "     cgpa  placement_exam_marks  placed\n",
              "0    7.19                  26.0       1\n",
              "1    7.46                  38.0       1\n",
              "2    7.54                  40.0       1\n",
              "3    6.42                   8.0       1\n",
              "4    7.23                  17.0       0\n",
              "..    ...                   ...     ...\n",
              "991  7.04                  57.0       0\n",
              "992  6.26                  12.0       0\n",
              "993  6.73                  21.0       1\n",
              "994  6.48                  63.0       0\n",
              "998  8.62                  46.0       1\n",
              "\n",
              "[995 rows x 3 columns]"
            ],
            "text/html": [
              "\n",
              "  <div id=\"df-182d0aab-7eec-488c-98c6-e1600952a5fc\">\n",
              "    <div class=\"colab-df-container\">\n",
              "      <div>\n",
              "<style scoped>\n",
              "    .dataframe tbody tr th:only-of-type {\n",
              "        vertical-align: middle;\n",
              "    }\n",
              "\n",
              "    .dataframe tbody tr th {\n",
              "        vertical-align: top;\n",
              "    }\n",
              "\n",
              "    .dataframe thead th {\n",
              "        text-align: right;\n",
              "    }\n",
              "</style>\n",
              "<table border=\"1\" class=\"dataframe\">\n",
              "  <thead>\n",
              "    <tr style=\"text-align: right;\">\n",
              "      <th></th>\n",
              "      <th>cgpa</th>\n",
              "      <th>placement_exam_marks</th>\n",
              "      <th>placed</th>\n",
              "    </tr>\n",
              "  </thead>\n",
              "  <tbody>\n",
              "    <tr>\n",
              "      <th>0</th>\n",
              "      <td>7.19</td>\n",
              "      <td>26.0</td>\n",
              "      <td>1</td>\n",
              "    </tr>\n",
              "    <tr>\n",
              "      <th>1</th>\n",
              "      <td>7.46</td>\n",
              "      <td>38.0</td>\n",
              "      <td>1</td>\n",
              "    </tr>\n",
              "    <tr>\n",
              "      <th>2</th>\n",
              "      <td>7.54</td>\n",
              "      <td>40.0</td>\n",
              "      <td>1</td>\n",
              "    </tr>\n",
              "    <tr>\n",
              "      <th>3</th>\n",
              "      <td>6.42</td>\n",
              "      <td>8.0</td>\n",
              "      <td>1</td>\n",
              "    </tr>\n",
              "    <tr>\n",
              "      <th>4</th>\n",
              "      <td>7.23</td>\n",
              "      <td>17.0</td>\n",
              "      <td>0</td>\n",
              "    </tr>\n",
              "    <tr>\n",
              "      <th>...</th>\n",
              "      <td>...</td>\n",
              "      <td>...</td>\n",
              "      <td>...</td>\n",
              "    </tr>\n",
              "    <tr>\n",
              "      <th>991</th>\n",
              "      <td>7.04</td>\n",
              "      <td>57.0</td>\n",
              "      <td>0</td>\n",
              "    </tr>\n",
              "    <tr>\n",
              "      <th>992</th>\n",
              "      <td>6.26</td>\n",
              "      <td>12.0</td>\n",
              "      <td>0</td>\n",
              "    </tr>\n",
              "    <tr>\n",
              "      <th>993</th>\n",
              "      <td>6.73</td>\n",
              "      <td>21.0</td>\n",
              "      <td>1</td>\n",
              "    </tr>\n",
              "    <tr>\n",
              "      <th>994</th>\n",
              "      <td>6.48</td>\n",
              "      <td>63.0</td>\n",
              "      <td>0</td>\n",
              "    </tr>\n",
              "    <tr>\n",
              "      <th>998</th>\n",
              "      <td>8.62</td>\n",
              "      <td>46.0</td>\n",
              "      <td>1</td>\n",
              "    </tr>\n",
              "  </tbody>\n",
              "</table>\n",
              "<p>995 rows × 3 columns</p>\n",
              "</div>\n",
              "      <button class=\"colab-df-convert\" onclick=\"convertToInteractive('df-182d0aab-7eec-488c-98c6-e1600952a5fc')\"\n",
              "              title=\"Convert this dataframe to an interactive table.\"\n",
              "              style=\"display:none;\">\n",
              "        \n",
              "  <svg xmlns=\"http://www.w3.org/2000/svg\" height=\"24px\"viewBox=\"0 0 24 24\"\n",
              "       width=\"24px\">\n",
              "    <path d=\"M0 0h24v24H0V0z\" fill=\"none\"/>\n",
              "    <path d=\"M18.56 5.44l.94 2.06.94-2.06 2.06-.94-2.06-.94-.94-2.06-.94 2.06-2.06.94zm-11 1L8.5 8.5l.94-2.06 2.06-.94-2.06-.94L8.5 2.5l-.94 2.06-2.06.94zm10 10l.94 2.06.94-2.06 2.06-.94-2.06-.94-.94-2.06-.94 2.06-2.06.94z\"/><path d=\"M17.41 7.96l-1.37-1.37c-.4-.4-.92-.59-1.43-.59-.52 0-1.04.2-1.43.59L10.3 9.45l-7.72 7.72c-.78.78-.78 2.05 0 2.83L4 21.41c.39.39.9.59 1.41.59.51 0 1.02-.2 1.41-.59l7.78-7.78 2.81-2.81c.8-.78.8-2.07 0-2.86zM5.41 20L4 18.59l7.72-7.72 1.47 1.35L5.41 20z\"/>\n",
              "  </svg>\n",
              "      </button>\n",
              "      \n",
              "  <style>\n",
              "    .colab-df-container {\n",
              "      display:flex;\n",
              "      flex-wrap:wrap;\n",
              "      gap: 12px;\n",
              "    }\n",
              "\n",
              "    .colab-df-convert {\n",
              "      background-color: #E8F0FE;\n",
              "      border: none;\n",
              "      border-radius: 50%;\n",
              "      cursor: pointer;\n",
              "      display: none;\n",
              "      fill: #1967D2;\n",
              "      height: 32px;\n",
              "      padding: 0 0 0 0;\n",
              "      width: 32px;\n",
              "    }\n",
              "\n",
              "    .colab-df-convert:hover {\n",
              "      background-color: #E2EBFA;\n",
              "      box-shadow: 0px 1px 2px rgba(60, 64, 67, 0.3), 0px 1px 3px 1px rgba(60, 64, 67, 0.15);\n",
              "      fill: #174EA6;\n",
              "    }\n",
              "\n",
              "    [theme=dark] .colab-df-convert {\n",
              "      background-color: #3B4455;\n",
              "      fill: #D2E3FC;\n",
              "    }\n",
              "\n",
              "    [theme=dark] .colab-df-convert:hover {\n",
              "      background-color: #434B5C;\n",
              "      box-shadow: 0px 1px 3px 1px rgba(0, 0, 0, 0.15);\n",
              "      filter: drop-shadow(0px 1px 2px rgba(0, 0, 0, 0.3));\n",
              "      fill: #FFFFFF;\n",
              "    }\n",
              "  </style>\n",
              "\n",
              "      <script>\n",
              "        const buttonEl =\n",
              "          document.querySelector('#df-182d0aab-7eec-488c-98c6-e1600952a5fc button.colab-df-convert');\n",
              "        buttonEl.style.display =\n",
              "          google.colab.kernel.accessAllowed ? 'block' : 'none';\n",
              "\n",
              "        async function convertToInteractive(key) {\n",
              "          const element = document.querySelector('#df-182d0aab-7eec-488c-98c6-e1600952a5fc');\n",
              "          const dataTable =\n",
              "            await google.colab.kernel.invokeFunction('convertToInteractive',\n",
              "                                                     [key], {});\n",
              "          if (!dataTable) return;\n",
              "\n",
              "          const docLinkHtml = 'Like what you see? Visit the ' +\n",
              "            '<a target=\"_blank\" href=https://colab.research.google.com/notebooks/data_table.ipynb>data table notebook</a>'\n",
              "            + ' to learn more about interactive tables.';\n",
              "          element.innerHTML = '';\n",
              "          dataTable['output_type'] = 'display_data';\n",
              "          await google.colab.output.renderOutput(dataTable, element);\n",
              "          const docLink = document.createElement('div');\n",
              "          docLink.innerHTML = docLinkHtml;\n",
              "          element.appendChild(docLink);\n",
              "        }\n",
              "      </script>\n",
              "    </div>\n",
              "  </div>\n",
              "  "
            ]
          },
          "metadata": {},
          "execution_count": 76
        }
      ]
    },
    {
      "cell_type": "code",
      "source": [
        "# Approach 2\n",
        "\n",
        "# Calculating the Zscore\n",
        "\n",
        "df['cgpa_zscore'] = (df['cgpa'] - df['cgpa'].mean())/df['cgpa'].std()"
      ],
      "metadata": {
        "id": "4Di50Y_WP_93"
      },
      "execution_count": null,
      "outputs": []
    },
    {
      "cell_type": "code",
      "source": [
        "df.head()"
      ],
      "metadata": {
        "colab": {
          "base_uri": "https://localhost:8080/",
          "height": 206
        },
        "id": "oJd4zs7BQGSh",
        "outputId": "fe21fcaa-0af4-4f1f-91ca-b7f74b603e54"
      },
      "execution_count": null,
      "outputs": [
        {
          "output_type": "execute_result",
          "data": {
            "text/plain": [
              "   cgpa  placement_exam_marks  placed  cgpa_zscore\n",
              "0  7.19                  26.0       1     0.371425\n",
              "1  7.46                  38.0       1     0.809810\n",
              "2  7.54                  40.0       1     0.939701\n",
              "3  6.42                   8.0       1    -0.878782\n",
              "4  7.23                  17.0       0     0.436371"
            ],
            "text/html": [
              "\n",
              "  <div id=\"df-d7cd3c2b-f6bb-4f30-b0e3-b9686ec6973f\">\n",
              "    <div class=\"colab-df-container\">\n",
              "      <div>\n",
              "<style scoped>\n",
              "    .dataframe tbody tr th:only-of-type {\n",
              "        vertical-align: middle;\n",
              "    }\n",
              "\n",
              "    .dataframe tbody tr th {\n",
              "        vertical-align: top;\n",
              "    }\n",
              "\n",
              "    .dataframe thead th {\n",
              "        text-align: right;\n",
              "    }\n",
              "</style>\n",
              "<table border=\"1\" class=\"dataframe\">\n",
              "  <thead>\n",
              "    <tr style=\"text-align: right;\">\n",
              "      <th></th>\n",
              "      <th>cgpa</th>\n",
              "      <th>placement_exam_marks</th>\n",
              "      <th>placed</th>\n",
              "      <th>cgpa_zscore</th>\n",
              "    </tr>\n",
              "  </thead>\n",
              "  <tbody>\n",
              "    <tr>\n",
              "      <th>0</th>\n",
              "      <td>7.19</td>\n",
              "      <td>26.0</td>\n",
              "      <td>1</td>\n",
              "      <td>0.371425</td>\n",
              "    </tr>\n",
              "    <tr>\n",
              "      <th>1</th>\n",
              "      <td>7.46</td>\n",
              "      <td>38.0</td>\n",
              "      <td>1</td>\n",
              "      <td>0.809810</td>\n",
              "    </tr>\n",
              "    <tr>\n",
              "      <th>2</th>\n",
              "      <td>7.54</td>\n",
              "      <td>40.0</td>\n",
              "      <td>1</td>\n",
              "      <td>0.939701</td>\n",
              "    </tr>\n",
              "    <tr>\n",
              "      <th>3</th>\n",
              "      <td>6.42</td>\n",
              "      <td>8.0</td>\n",
              "      <td>1</td>\n",
              "      <td>-0.878782</td>\n",
              "    </tr>\n",
              "    <tr>\n",
              "      <th>4</th>\n",
              "      <td>7.23</td>\n",
              "      <td>17.0</td>\n",
              "      <td>0</td>\n",
              "      <td>0.436371</td>\n",
              "    </tr>\n",
              "  </tbody>\n",
              "</table>\n",
              "</div>\n",
              "      <button class=\"colab-df-convert\" onclick=\"convertToInteractive('df-d7cd3c2b-f6bb-4f30-b0e3-b9686ec6973f')\"\n",
              "              title=\"Convert this dataframe to an interactive table.\"\n",
              "              style=\"display:none;\">\n",
              "        \n",
              "  <svg xmlns=\"http://www.w3.org/2000/svg\" height=\"24px\"viewBox=\"0 0 24 24\"\n",
              "       width=\"24px\">\n",
              "    <path d=\"M0 0h24v24H0V0z\" fill=\"none\"/>\n",
              "    <path d=\"M18.56 5.44l.94 2.06.94-2.06 2.06-.94-2.06-.94-.94-2.06-.94 2.06-2.06.94zm-11 1L8.5 8.5l.94-2.06 2.06-.94-2.06-.94L8.5 2.5l-.94 2.06-2.06.94zm10 10l.94 2.06.94-2.06 2.06-.94-2.06-.94-.94-2.06-.94 2.06-2.06.94z\"/><path d=\"M17.41 7.96l-1.37-1.37c-.4-.4-.92-.59-1.43-.59-.52 0-1.04.2-1.43.59L10.3 9.45l-7.72 7.72c-.78.78-.78 2.05 0 2.83L4 21.41c.39.39.9.59 1.41.59.51 0 1.02-.2 1.41-.59l7.78-7.78 2.81-2.81c.8-.78.8-2.07 0-2.86zM5.41 20L4 18.59l7.72-7.72 1.47 1.35L5.41 20z\"/>\n",
              "  </svg>\n",
              "      </button>\n",
              "      \n",
              "  <style>\n",
              "    .colab-df-container {\n",
              "      display:flex;\n",
              "      flex-wrap:wrap;\n",
              "      gap: 12px;\n",
              "    }\n",
              "\n",
              "    .colab-df-convert {\n",
              "      background-color: #E8F0FE;\n",
              "      border: none;\n",
              "      border-radius: 50%;\n",
              "      cursor: pointer;\n",
              "      display: none;\n",
              "      fill: #1967D2;\n",
              "      height: 32px;\n",
              "      padding: 0 0 0 0;\n",
              "      width: 32px;\n",
              "    }\n",
              "\n",
              "    .colab-df-convert:hover {\n",
              "      background-color: #E2EBFA;\n",
              "      box-shadow: 0px 1px 2px rgba(60, 64, 67, 0.3), 0px 1px 3px 1px rgba(60, 64, 67, 0.15);\n",
              "      fill: #174EA6;\n",
              "    }\n",
              "\n",
              "    [theme=dark] .colab-df-convert {\n",
              "      background-color: #3B4455;\n",
              "      fill: #D2E3FC;\n",
              "    }\n",
              "\n",
              "    [theme=dark] .colab-df-convert:hover {\n",
              "      background-color: #434B5C;\n",
              "      box-shadow: 0px 1px 3px 1px rgba(0, 0, 0, 0.15);\n",
              "      filter: drop-shadow(0px 1px 2px rgba(0, 0, 0, 0.3));\n",
              "      fill: #FFFFFF;\n",
              "    }\n",
              "  </style>\n",
              "\n",
              "      <script>\n",
              "        const buttonEl =\n",
              "          document.querySelector('#df-d7cd3c2b-f6bb-4f30-b0e3-b9686ec6973f button.colab-df-convert');\n",
              "        buttonEl.style.display =\n",
              "          google.colab.kernel.accessAllowed ? 'block' : 'none';\n",
              "\n",
              "        async function convertToInteractive(key) {\n",
              "          const element = document.querySelector('#df-d7cd3c2b-f6bb-4f30-b0e3-b9686ec6973f');\n",
              "          const dataTable =\n",
              "            await google.colab.kernel.invokeFunction('convertToInteractive',\n",
              "                                                     [key], {});\n",
              "          if (!dataTable) return;\n",
              "\n",
              "          const docLinkHtml = 'Like what you see? Visit the ' +\n",
              "            '<a target=\"_blank\" href=https://colab.research.google.com/notebooks/data_table.ipynb>data table notebook</a>'\n",
              "            + ' to learn more about interactive tables.';\n",
              "          element.innerHTML = '';\n",
              "          dataTable['output_type'] = 'display_data';\n",
              "          await google.colab.output.renderOutput(dataTable, element);\n",
              "          const docLink = document.createElement('div');\n",
              "          docLink.innerHTML = docLinkHtml;\n",
              "          element.appendChild(docLink);\n",
              "        }\n",
              "      </script>\n",
              "    </div>\n",
              "  </div>\n",
              "  "
            ]
          },
          "metadata": {},
          "execution_count": 79
        }
      ]
    },
    {
      "cell_type": "code",
      "source": [
        "df[df['cgpa_zscore'] > 3]  #more than 3 standard deviations away from the mean"
      ],
      "metadata": {
        "colab": {
          "base_uri": "https://localhost:8080/",
          "height": 112
        },
        "id": "HOwzOgIxQOb3",
        "outputId": "3e566c1b-6537-419b-faf8-cc431cb05834"
      },
      "execution_count": null,
      "outputs": [
        {
          "output_type": "execute_result",
          "data": {
            "text/plain": [
              "     cgpa  placement_exam_marks  placed  cgpa_zscore\n",
              "995  8.87                  44.0       1     3.099150\n",
              "996  9.12                  65.0       1     3.505062"
            ],
            "text/html": [
              "\n",
              "  <div id=\"df-a65b721e-1d7b-4c70-bf37-758d5f5af4ba\">\n",
              "    <div class=\"colab-df-container\">\n",
              "      <div>\n",
              "<style scoped>\n",
              "    .dataframe tbody tr th:only-of-type {\n",
              "        vertical-align: middle;\n",
              "    }\n",
              "\n",
              "    .dataframe tbody tr th {\n",
              "        vertical-align: top;\n",
              "    }\n",
              "\n",
              "    .dataframe thead th {\n",
              "        text-align: right;\n",
              "    }\n",
              "</style>\n",
              "<table border=\"1\" class=\"dataframe\">\n",
              "  <thead>\n",
              "    <tr style=\"text-align: right;\">\n",
              "      <th></th>\n",
              "      <th>cgpa</th>\n",
              "      <th>placement_exam_marks</th>\n",
              "      <th>placed</th>\n",
              "      <th>cgpa_zscore</th>\n",
              "    </tr>\n",
              "  </thead>\n",
              "  <tbody>\n",
              "    <tr>\n",
              "      <th>995</th>\n",
              "      <td>8.87</td>\n",
              "      <td>44.0</td>\n",
              "      <td>1</td>\n",
              "      <td>3.099150</td>\n",
              "    </tr>\n",
              "    <tr>\n",
              "      <th>996</th>\n",
              "      <td>9.12</td>\n",
              "      <td>65.0</td>\n",
              "      <td>1</td>\n",
              "      <td>3.505062</td>\n",
              "    </tr>\n",
              "  </tbody>\n",
              "</table>\n",
              "</div>\n",
              "      <button class=\"colab-df-convert\" onclick=\"convertToInteractive('df-a65b721e-1d7b-4c70-bf37-758d5f5af4ba')\"\n",
              "              title=\"Convert this dataframe to an interactive table.\"\n",
              "              style=\"display:none;\">\n",
              "        \n",
              "  <svg xmlns=\"http://www.w3.org/2000/svg\" height=\"24px\"viewBox=\"0 0 24 24\"\n",
              "       width=\"24px\">\n",
              "    <path d=\"M0 0h24v24H0V0z\" fill=\"none\"/>\n",
              "    <path d=\"M18.56 5.44l.94 2.06.94-2.06 2.06-.94-2.06-.94-.94-2.06-.94 2.06-2.06.94zm-11 1L8.5 8.5l.94-2.06 2.06-.94-2.06-.94L8.5 2.5l-.94 2.06-2.06.94zm10 10l.94 2.06.94-2.06 2.06-.94-2.06-.94-.94-2.06-.94 2.06-2.06.94z\"/><path d=\"M17.41 7.96l-1.37-1.37c-.4-.4-.92-.59-1.43-.59-.52 0-1.04.2-1.43.59L10.3 9.45l-7.72 7.72c-.78.78-.78 2.05 0 2.83L4 21.41c.39.39.9.59 1.41.59.51 0 1.02-.2 1.41-.59l7.78-7.78 2.81-2.81c.8-.78.8-2.07 0-2.86zM5.41 20L4 18.59l7.72-7.72 1.47 1.35L5.41 20z\"/>\n",
              "  </svg>\n",
              "      </button>\n",
              "      \n",
              "  <style>\n",
              "    .colab-df-container {\n",
              "      display:flex;\n",
              "      flex-wrap:wrap;\n",
              "      gap: 12px;\n",
              "    }\n",
              "\n",
              "    .colab-df-convert {\n",
              "      background-color: #E8F0FE;\n",
              "      border: none;\n",
              "      border-radius: 50%;\n",
              "      cursor: pointer;\n",
              "      display: none;\n",
              "      fill: #1967D2;\n",
              "      height: 32px;\n",
              "      padding: 0 0 0 0;\n",
              "      width: 32px;\n",
              "    }\n",
              "\n",
              "    .colab-df-convert:hover {\n",
              "      background-color: #E2EBFA;\n",
              "      box-shadow: 0px 1px 2px rgba(60, 64, 67, 0.3), 0px 1px 3px 1px rgba(60, 64, 67, 0.15);\n",
              "      fill: #174EA6;\n",
              "    }\n",
              "\n",
              "    [theme=dark] .colab-df-convert {\n",
              "      background-color: #3B4455;\n",
              "      fill: #D2E3FC;\n",
              "    }\n",
              "\n",
              "    [theme=dark] .colab-df-convert:hover {\n",
              "      background-color: #434B5C;\n",
              "      box-shadow: 0px 1px 3px 1px rgba(0, 0, 0, 0.15);\n",
              "      filter: drop-shadow(0px 1px 2px rgba(0, 0, 0, 0.3));\n",
              "      fill: #FFFFFF;\n",
              "    }\n",
              "  </style>\n",
              "\n",
              "      <script>\n",
              "        const buttonEl =\n",
              "          document.querySelector('#df-a65b721e-1d7b-4c70-bf37-758d5f5af4ba button.colab-df-convert');\n",
              "        buttonEl.style.display =\n",
              "          google.colab.kernel.accessAllowed ? 'block' : 'none';\n",
              "\n",
              "        async function convertToInteractive(key) {\n",
              "          const element = document.querySelector('#df-a65b721e-1d7b-4c70-bf37-758d5f5af4ba');\n",
              "          const dataTable =\n",
              "            await google.colab.kernel.invokeFunction('convertToInteractive',\n",
              "                                                     [key], {});\n",
              "          if (!dataTable) return;\n",
              "\n",
              "          const docLinkHtml = 'Like what you see? Visit the ' +\n",
              "            '<a target=\"_blank\" href=https://colab.research.google.com/notebooks/data_table.ipynb>data table notebook</a>'\n",
              "            + ' to learn more about interactive tables.';\n",
              "          element.innerHTML = '';\n",
              "          dataTable['output_type'] = 'display_data';\n",
              "          await google.colab.output.renderOutput(dataTable, element);\n",
              "          const docLink = document.createElement('div');\n",
              "          docLink.innerHTML = docLinkHtml;\n",
              "          element.appendChild(docLink);\n",
              "        }\n",
              "      </script>\n",
              "    </div>\n",
              "  </div>\n",
              "  "
            ]
          },
          "metadata": {},
          "execution_count": 80
        }
      ]
    },
    {
      "cell_type": "code",
      "source": [
        "df[df['cgpa_zscore'] < -3] #less than 3 standard deviations away from the mean"
      ],
      "metadata": {
        "colab": {
          "base_uri": "https://localhost:8080/",
          "height": 143
        },
        "id": "7f7HlckMQRGg",
        "outputId": "64eb3ce6-8f00-4d18-abce-5a10c6d434e1"
      },
      "execution_count": null,
      "outputs": [
        {
          "output_type": "execute_result",
          "data": {
            "text/plain": [
              "     cgpa  placement_exam_marks  placed  cgpa_zscore\n",
              "485  4.92                  44.0       1    -3.314251\n",
              "997  4.89                  34.0       0    -3.362960\n",
              "999  4.90                  10.0       1    -3.346724"
            ],
            "text/html": [
              "\n",
              "  <div id=\"df-10365af5-6858-4493-b0d7-9acb5ee272b8\">\n",
              "    <div class=\"colab-df-container\">\n",
              "      <div>\n",
              "<style scoped>\n",
              "    .dataframe tbody tr th:only-of-type {\n",
              "        vertical-align: middle;\n",
              "    }\n",
              "\n",
              "    .dataframe tbody tr th {\n",
              "        vertical-align: top;\n",
              "    }\n",
              "\n",
              "    .dataframe thead th {\n",
              "        text-align: right;\n",
              "    }\n",
              "</style>\n",
              "<table border=\"1\" class=\"dataframe\">\n",
              "  <thead>\n",
              "    <tr style=\"text-align: right;\">\n",
              "      <th></th>\n",
              "      <th>cgpa</th>\n",
              "      <th>placement_exam_marks</th>\n",
              "      <th>placed</th>\n",
              "      <th>cgpa_zscore</th>\n",
              "    </tr>\n",
              "  </thead>\n",
              "  <tbody>\n",
              "    <tr>\n",
              "      <th>485</th>\n",
              "      <td>4.92</td>\n",
              "      <td>44.0</td>\n",
              "      <td>1</td>\n",
              "      <td>-3.314251</td>\n",
              "    </tr>\n",
              "    <tr>\n",
              "      <th>997</th>\n",
              "      <td>4.89</td>\n",
              "      <td>34.0</td>\n",
              "      <td>0</td>\n",
              "      <td>-3.362960</td>\n",
              "    </tr>\n",
              "    <tr>\n",
              "      <th>999</th>\n",
              "      <td>4.90</td>\n",
              "      <td>10.0</td>\n",
              "      <td>1</td>\n",
              "      <td>-3.346724</td>\n",
              "    </tr>\n",
              "  </tbody>\n",
              "</table>\n",
              "</div>\n",
              "      <button class=\"colab-df-convert\" onclick=\"convertToInteractive('df-10365af5-6858-4493-b0d7-9acb5ee272b8')\"\n",
              "              title=\"Convert this dataframe to an interactive table.\"\n",
              "              style=\"display:none;\">\n",
              "        \n",
              "  <svg xmlns=\"http://www.w3.org/2000/svg\" height=\"24px\"viewBox=\"0 0 24 24\"\n",
              "       width=\"24px\">\n",
              "    <path d=\"M0 0h24v24H0V0z\" fill=\"none\"/>\n",
              "    <path d=\"M18.56 5.44l.94 2.06.94-2.06 2.06-.94-2.06-.94-.94-2.06-.94 2.06-2.06.94zm-11 1L8.5 8.5l.94-2.06 2.06-.94-2.06-.94L8.5 2.5l-.94 2.06-2.06.94zm10 10l.94 2.06.94-2.06 2.06-.94-2.06-.94-.94-2.06-.94 2.06-2.06.94z\"/><path d=\"M17.41 7.96l-1.37-1.37c-.4-.4-.92-.59-1.43-.59-.52 0-1.04.2-1.43.59L10.3 9.45l-7.72 7.72c-.78.78-.78 2.05 0 2.83L4 21.41c.39.39.9.59 1.41.59.51 0 1.02-.2 1.41-.59l7.78-7.78 2.81-2.81c.8-.78.8-2.07 0-2.86zM5.41 20L4 18.59l7.72-7.72 1.47 1.35L5.41 20z\"/>\n",
              "  </svg>\n",
              "      </button>\n",
              "      \n",
              "  <style>\n",
              "    .colab-df-container {\n",
              "      display:flex;\n",
              "      flex-wrap:wrap;\n",
              "      gap: 12px;\n",
              "    }\n",
              "\n",
              "    .colab-df-convert {\n",
              "      background-color: #E8F0FE;\n",
              "      border: none;\n",
              "      border-radius: 50%;\n",
              "      cursor: pointer;\n",
              "      display: none;\n",
              "      fill: #1967D2;\n",
              "      height: 32px;\n",
              "      padding: 0 0 0 0;\n",
              "      width: 32px;\n",
              "    }\n",
              "\n",
              "    .colab-df-convert:hover {\n",
              "      background-color: #E2EBFA;\n",
              "      box-shadow: 0px 1px 2px rgba(60, 64, 67, 0.3), 0px 1px 3px 1px rgba(60, 64, 67, 0.15);\n",
              "      fill: #174EA6;\n",
              "    }\n",
              "\n",
              "    [theme=dark] .colab-df-convert {\n",
              "      background-color: #3B4455;\n",
              "      fill: #D2E3FC;\n",
              "    }\n",
              "\n",
              "    [theme=dark] .colab-df-convert:hover {\n",
              "      background-color: #434B5C;\n",
              "      box-shadow: 0px 1px 3px 1px rgba(0, 0, 0, 0.15);\n",
              "      filter: drop-shadow(0px 1px 2px rgba(0, 0, 0, 0.3));\n",
              "      fill: #FFFFFF;\n",
              "    }\n",
              "  </style>\n",
              "\n",
              "      <script>\n",
              "        const buttonEl =\n",
              "          document.querySelector('#df-10365af5-6858-4493-b0d7-9acb5ee272b8 button.colab-df-convert');\n",
              "        buttonEl.style.display =\n",
              "          google.colab.kernel.accessAllowed ? 'block' : 'none';\n",
              "\n",
              "        async function convertToInteractive(key) {\n",
              "          const element = document.querySelector('#df-10365af5-6858-4493-b0d7-9acb5ee272b8');\n",
              "          const dataTable =\n",
              "            await google.colab.kernel.invokeFunction('convertToInteractive',\n",
              "                                                     [key], {});\n",
              "          if (!dataTable) return;\n",
              "\n",
              "          const docLinkHtml = 'Like what you see? Visit the ' +\n",
              "            '<a target=\"_blank\" href=https://colab.research.google.com/notebooks/data_table.ipynb>data table notebook</a>'\n",
              "            + ' to learn more about interactive tables.';\n",
              "          element.innerHTML = '';\n",
              "          dataTable['output_type'] = 'display_data';\n",
              "          await google.colab.output.renderOutput(dataTable, element);\n",
              "          const docLink = document.createElement('div');\n",
              "          docLink.innerHTML = docLinkHtml;\n",
              "          element.appendChild(docLink);\n",
              "        }\n",
              "      </script>\n",
              "    </div>\n",
              "  </div>\n",
              "  "
            ]
          },
          "metadata": {},
          "execution_count": 81
        }
      ]
    },
    {
      "cell_type": "code",
      "source": [
        "df[(df['cgpa_zscore'] > 3) | (df['cgpa_zscore'] < -3)]"
      ],
      "metadata": {
        "colab": {
          "base_uri": "https://localhost:8080/",
          "height": 206
        },
        "id": "TYzjGpDHQSxB",
        "outputId": "a16b92cb-0b74-4d55-ba7f-aea8ddb2005a"
      },
      "execution_count": null,
      "outputs": [
        {
          "output_type": "execute_result",
          "data": {
            "text/plain": [
              "     cgpa  placement_exam_marks  placed  cgpa_zscore\n",
              "485  4.92                  44.0       1    -3.314251\n",
              "995  8.87                  44.0       1     3.099150\n",
              "996  9.12                  65.0       1     3.505062\n",
              "997  4.89                  34.0       0    -3.362960\n",
              "999  4.90                  10.0       1    -3.346724"
            ],
            "text/html": [
              "\n",
              "  <div id=\"df-151f6502-4959-442d-9a63-e39302b3f812\">\n",
              "    <div class=\"colab-df-container\">\n",
              "      <div>\n",
              "<style scoped>\n",
              "    .dataframe tbody tr th:only-of-type {\n",
              "        vertical-align: middle;\n",
              "    }\n",
              "\n",
              "    .dataframe tbody tr th {\n",
              "        vertical-align: top;\n",
              "    }\n",
              "\n",
              "    .dataframe thead th {\n",
              "        text-align: right;\n",
              "    }\n",
              "</style>\n",
              "<table border=\"1\" class=\"dataframe\">\n",
              "  <thead>\n",
              "    <tr style=\"text-align: right;\">\n",
              "      <th></th>\n",
              "      <th>cgpa</th>\n",
              "      <th>placement_exam_marks</th>\n",
              "      <th>placed</th>\n",
              "      <th>cgpa_zscore</th>\n",
              "    </tr>\n",
              "  </thead>\n",
              "  <tbody>\n",
              "    <tr>\n",
              "      <th>485</th>\n",
              "      <td>4.92</td>\n",
              "      <td>44.0</td>\n",
              "      <td>1</td>\n",
              "      <td>-3.314251</td>\n",
              "    </tr>\n",
              "    <tr>\n",
              "      <th>995</th>\n",
              "      <td>8.87</td>\n",
              "      <td>44.0</td>\n",
              "      <td>1</td>\n",
              "      <td>3.099150</td>\n",
              "    </tr>\n",
              "    <tr>\n",
              "      <th>996</th>\n",
              "      <td>9.12</td>\n",
              "      <td>65.0</td>\n",
              "      <td>1</td>\n",
              "      <td>3.505062</td>\n",
              "    </tr>\n",
              "    <tr>\n",
              "      <th>997</th>\n",
              "      <td>4.89</td>\n",
              "      <td>34.0</td>\n",
              "      <td>0</td>\n",
              "      <td>-3.362960</td>\n",
              "    </tr>\n",
              "    <tr>\n",
              "      <th>999</th>\n",
              "      <td>4.90</td>\n",
              "      <td>10.0</td>\n",
              "      <td>1</td>\n",
              "      <td>-3.346724</td>\n",
              "    </tr>\n",
              "  </tbody>\n",
              "</table>\n",
              "</div>\n",
              "      <button class=\"colab-df-convert\" onclick=\"convertToInteractive('df-151f6502-4959-442d-9a63-e39302b3f812')\"\n",
              "              title=\"Convert this dataframe to an interactive table.\"\n",
              "              style=\"display:none;\">\n",
              "        \n",
              "  <svg xmlns=\"http://www.w3.org/2000/svg\" height=\"24px\"viewBox=\"0 0 24 24\"\n",
              "       width=\"24px\">\n",
              "    <path d=\"M0 0h24v24H0V0z\" fill=\"none\"/>\n",
              "    <path d=\"M18.56 5.44l.94 2.06.94-2.06 2.06-.94-2.06-.94-.94-2.06-.94 2.06-2.06.94zm-11 1L8.5 8.5l.94-2.06 2.06-.94-2.06-.94L8.5 2.5l-.94 2.06-2.06.94zm10 10l.94 2.06.94-2.06 2.06-.94-2.06-.94-.94-2.06-.94 2.06-2.06.94z\"/><path d=\"M17.41 7.96l-1.37-1.37c-.4-.4-.92-.59-1.43-.59-.52 0-1.04.2-1.43.59L10.3 9.45l-7.72 7.72c-.78.78-.78 2.05 0 2.83L4 21.41c.39.39.9.59 1.41.59.51 0 1.02-.2 1.41-.59l7.78-7.78 2.81-2.81c.8-.78.8-2.07 0-2.86zM5.41 20L4 18.59l7.72-7.72 1.47 1.35L5.41 20z\"/>\n",
              "  </svg>\n",
              "      </button>\n",
              "      \n",
              "  <style>\n",
              "    .colab-df-container {\n",
              "      display:flex;\n",
              "      flex-wrap:wrap;\n",
              "      gap: 12px;\n",
              "    }\n",
              "\n",
              "    .colab-df-convert {\n",
              "      background-color: #E8F0FE;\n",
              "      border: none;\n",
              "      border-radius: 50%;\n",
              "      cursor: pointer;\n",
              "      display: none;\n",
              "      fill: #1967D2;\n",
              "      height: 32px;\n",
              "      padding: 0 0 0 0;\n",
              "      width: 32px;\n",
              "    }\n",
              "\n",
              "    .colab-df-convert:hover {\n",
              "      background-color: #E2EBFA;\n",
              "      box-shadow: 0px 1px 2px rgba(60, 64, 67, 0.3), 0px 1px 3px 1px rgba(60, 64, 67, 0.15);\n",
              "      fill: #174EA6;\n",
              "    }\n",
              "\n",
              "    [theme=dark] .colab-df-convert {\n",
              "      background-color: #3B4455;\n",
              "      fill: #D2E3FC;\n",
              "    }\n",
              "\n",
              "    [theme=dark] .colab-df-convert:hover {\n",
              "      background-color: #434B5C;\n",
              "      box-shadow: 0px 1px 3px 1px rgba(0, 0, 0, 0.15);\n",
              "      filter: drop-shadow(0px 1px 2px rgba(0, 0, 0, 0.3));\n",
              "      fill: #FFFFFF;\n",
              "    }\n",
              "  </style>\n",
              "\n",
              "      <script>\n",
              "        const buttonEl =\n",
              "          document.querySelector('#df-151f6502-4959-442d-9a63-e39302b3f812 button.colab-df-convert');\n",
              "        buttonEl.style.display =\n",
              "          google.colab.kernel.accessAllowed ? 'block' : 'none';\n",
              "\n",
              "        async function convertToInteractive(key) {\n",
              "          const element = document.querySelector('#df-151f6502-4959-442d-9a63-e39302b3f812');\n",
              "          const dataTable =\n",
              "            await google.colab.kernel.invokeFunction('convertToInteractive',\n",
              "                                                     [key], {});\n",
              "          if (!dataTable) return;\n",
              "\n",
              "          const docLinkHtml = 'Like what you see? Visit the ' +\n",
              "            '<a target=\"_blank\" href=https://colab.research.google.com/notebooks/data_table.ipynb>data table notebook</a>'\n",
              "            + ' to learn more about interactive tables.';\n",
              "          element.innerHTML = '';\n",
              "          dataTable['output_type'] = 'display_data';\n",
              "          await google.colab.output.renderOutput(dataTable, element);\n",
              "          const docLink = document.createElement('div');\n",
              "          docLink.innerHTML = docLinkHtml;\n",
              "          element.appendChild(docLink);\n",
              "        }\n",
              "      </script>\n",
              "    </div>\n",
              "  </div>\n",
              "  "
            ]
          },
          "metadata": {},
          "execution_count": 82
        }
      ]
    },
    {
      "cell_type": "code",
      "source": [
        "# Trimming\n",
        "new_df = df[(df['cgpa_zscore'] < 3) & (df['cgpa_zscore'] > -3)]"
      ],
      "metadata": {
        "id": "aXb11Uo1QUvC"
      },
      "execution_count": null,
      "outputs": []
    },
    {
      "cell_type": "code",
      "source": [
        "new_df"
      ],
      "metadata": {
        "colab": {
          "base_uri": "https://localhost:8080/",
          "height": 423
        },
        "id": "0zhSXjOQQXAF",
        "outputId": "f962ed1f-ff7f-4a57-abc5-51309495889e"
      },
      "execution_count": null,
      "outputs": [
        {
          "output_type": "execute_result",
          "data": {
            "text/plain": [
              "     cgpa  placement_exam_marks  placed  cgpa_zscore\n",
              "0    7.19                  26.0       1     0.371425\n",
              "1    7.46                  38.0       1     0.809810\n",
              "2    7.54                  40.0       1     0.939701\n",
              "3    6.42                   8.0       1    -0.878782\n",
              "4    7.23                  17.0       0     0.436371\n",
              "..    ...                   ...     ...          ...\n",
              "991  7.04                  57.0       0     0.127878\n",
              "992  6.26                  12.0       0    -1.138565\n",
              "993  6.73                  21.0       1    -0.375452\n",
              "994  6.48                  63.0       0    -0.781363\n",
              "998  8.62                  46.0       1     2.693239\n",
              "\n",
              "[995 rows x 4 columns]"
            ],
            "text/html": [
              "\n",
              "  <div id=\"df-c8a74e5f-eccb-4ef6-ab64-1067459679e0\">\n",
              "    <div class=\"colab-df-container\">\n",
              "      <div>\n",
              "<style scoped>\n",
              "    .dataframe tbody tr th:only-of-type {\n",
              "        vertical-align: middle;\n",
              "    }\n",
              "\n",
              "    .dataframe tbody tr th {\n",
              "        vertical-align: top;\n",
              "    }\n",
              "\n",
              "    .dataframe thead th {\n",
              "        text-align: right;\n",
              "    }\n",
              "</style>\n",
              "<table border=\"1\" class=\"dataframe\">\n",
              "  <thead>\n",
              "    <tr style=\"text-align: right;\">\n",
              "      <th></th>\n",
              "      <th>cgpa</th>\n",
              "      <th>placement_exam_marks</th>\n",
              "      <th>placed</th>\n",
              "      <th>cgpa_zscore</th>\n",
              "    </tr>\n",
              "  </thead>\n",
              "  <tbody>\n",
              "    <tr>\n",
              "      <th>0</th>\n",
              "      <td>7.19</td>\n",
              "      <td>26.0</td>\n",
              "      <td>1</td>\n",
              "      <td>0.371425</td>\n",
              "    </tr>\n",
              "    <tr>\n",
              "      <th>1</th>\n",
              "      <td>7.46</td>\n",
              "      <td>38.0</td>\n",
              "      <td>1</td>\n",
              "      <td>0.809810</td>\n",
              "    </tr>\n",
              "    <tr>\n",
              "      <th>2</th>\n",
              "      <td>7.54</td>\n",
              "      <td>40.0</td>\n",
              "      <td>1</td>\n",
              "      <td>0.939701</td>\n",
              "    </tr>\n",
              "    <tr>\n",
              "      <th>3</th>\n",
              "      <td>6.42</td>\n",
              "      <td>8.0</td>\n",
              "      <td>1</td>\n",
              "      <td>-0.878782</td>\n",
              "    </tr>\n",
              "    <tr>\n",
              "      <th>4</th>\n",
              "      <td>7.23</td>\n",
              "      <td>17.0</td>\n",
              "      <td>0</td>\n",
              "      <td>0.436371</td>\n",
              "    </tr>\n",
              "    <tr>\n",
              "      <th>...</th>\n",
              "      <td>...</td>\n",
              "      <td>...</td>\n",
              "      <td>...</td>\n",
              "      <td>...</td>\n",
              "    </tr>\n",
              "    <tr>\n",
              "      <th>991</th>\n",
              "      <td>7.04</td>\n",
              "      <td>57.0</td>\n",
              "      <td>0</td>\n",
              "      <td>0.127878</td>\n",
              "    </tr>\n",
              "    <tr>\n",
              "      <th>992</th>\n",
              "      <td>6.26</td>\n",
              "      <td>12.0</td>\n",
              "      <td>0</td>\n",
              "      <td>-1.138565</td>\n",
              "    </tr>\n",
              "    <tr>\n",
              "      <th>993</th>\n",
              "      <td>6.73</td>\n",
              "      <td>21.0</td>\n",
              "      <td>1</td>\n",
              "      <td>-0.375452</td>\n",
              "    </tr>\n",
              "    <tr>\n",
              "      <th>994</th>\n",
              "      <td>6.48</td>\n",
              "      <td>63.0</td>\n",
              "      <td>0</td>\n",
              "      <td>-0.781363</td>\n",
              "    </tr>\n",
              "    <tr>\n",
              "      <th>998</th>\n",
              "      <td>8.62</td>\n",
              "      <td>46.0</td>\n",
              "      <td>1</td>\n",
              "      <td>2.693239</td>\n",
              "    </tr>\n",
              "  </tbody>\n",
              "</table>\n",
              "<p>995 rows × 4 columns</p>\n",
              "</div>\n",
              "      <button class=\"colab-df-convert\" onclick=\"convertToInteractive('df-c8a74e5f-eccb-4ef6-ab64-1067459679e0')\"\n",
              "              title=\"Convert this dataframe to an interactive table.\"\n",
              "              style=\"display:none;\">\n",
              "        \n",
              "  <svg xmlns=\"http://www.w3.org/2000/svg\" height=\"24px\"viewBox=\"0 0 24 24\"\n",
              "       width=\"24px\">\n",
              "    <path d=\"M0 0h24v24H0V0z\" fill=\"none\"/>\n",
              "    <path d=\"M18.56 5.44l.94 2.06.94-2.06 2.06-.94-2.06-.94-.94-2.06-.94 2.06-2.06.94zm-11 1L8.5 8.5l.94-2.06 2.06-.94-2.06-.94L8.5 2.5l-.94 2.06-2.06.94zm10 10l.94 2.06.94-2.06 2.06-.94-2.06-.94-.94-2.06-.94 2.06-2.06.94z\"/><path d=\"M17.41 7.96l-1.37-1.37c-.4-.4-.92-.59-1.43-.59-.52 0-1.04.2-1.43.59L10.3 9.45l-7.72 7.72c-.78.78-.78 2.05 0 2.83L4 21.41c.39.39.9.59 1.41.59.51 0 1.02-.2 1.41-.59l7.78-7.78 2.81-2.81c.8-.78.8-2.07 0-2.86zM5.41 20L4 18.59l7.72-7.72 1.47 1.35L5.41 20z\"/>\n",
              "  </svg>\n",
              "      </button>\n",
              "      \n",
              "  <style>\n",
              "    .colab-df-container {\n",
              "      display:flex;\n",
              "      flex-wrap:wrap;\n",
              "      gap: 12px;\n",
              "    }\n",
              "\n",
              "    .colab-df-convert {\n",
              "      background-color: #E8F0FE;\n",
              "      border: none;\n",
              "      border-radius: 50%;\n",
              "      cursor: pointer;\n",
              "      display: none;\n",
              "      fill: #1967D2;\n",
              "      height: 32px;\n",
              "      padding: 0 0 0 0;\n",
              "      width: 32px;\n",
              "    }\n",
              "\n",
              "    .colab-df-convert:hover {\n",
              "      background-color: #E2EBFA;\n",
              "      box-shadow: 0px 1px 2px rgba(60, 64, 67, 0.3), 0px 1px 3px 1px rgba(60, 64, 67, 0.15);\n",
              "      fill: #174EA6;\n",
              "    }\n",
              "\n",
              "    [theme=dark] .colab-df-convert {\n",
              "      background-color: #3B4455;\n",
              "      fill: #D2E3FC;\n",
              "    }\n",
              "\n",
              "    [theme=dark] .colab-df-convert:hover {\n",
              "      background-color: #434B5C;\n",
              "      box-shadow: 0px 1px 3px 1px rgba(0, 0, 0, 0.15);\n",
              "      filter: drop-shadow(0px 1px 2px rgba(0, 0, 0, 0.3));\n",
              "      fill: #FFFFFF;\n",
              "    }\n",
              "  </style>\n",
              "\n",
              "      <script>\n",
              "        const buttonEl =\n",
              "          document.querySelector('#df-c8a74e5f-eccb-4ef6-ab64-1067459679e0 button.colab-df-convert');\n",
              "        buttonEl.style.display =\n",
              "          google.colab.kernel.accessAllowed ? 'block' : 'none';\n",
              "\n",
              "        async function convertToInteractive(key) {\n",
              "          const element = document.querySelector('#df-c8a74e5f-eccb-4ef6-ab64-1067459679e0');\n",
              "          const dataTable =\n",
              "            await google.colab.kernel.invokeFunction('convertToInteractive',\n",
              "                                                     [key], {});\n",
              "          if (!dataTable) return;\n",
              "\n",
              "          const docLinkHtml = 'Like what you see? Visit the ' +\n",
              "            '<a target=\"_blank\" href=https://colab.research.google.com/notebooks/data_table.ipynb>data table notebook</a>'\n",
              "            + ' to learn more about interactive tables.';\n",
              "          element.innerHTML = '';\n",
              "          dataTable['output_type'] = 'display_data';\n",
              "          await google.colab.output.renderOutput(dataTable, element);\n",
              "          const docLink = document.createElement('div');\n",
              "          docLink.innerHTML = docLinkHtml;\n",
              "          element.appendChild(docLink);\n",
              "        }\n",
              "      </script>\n",
              "    </div>\n",
              "  </div>\n",
              "  "
            ]
          },
          "metadata": {},
          "execution_count": 84
        }
      ]
    },
    {
      "cell_type": "markdown",
      "source": [
        "# Removing Outliers through Capping"
      ],
      "metadata": {
        "id": "prOQNUNIQaKH"
      }
    },
    {
      "cell_type": "code",
      "source": [
        "upper_limit = df['cgpa'].mean() + 3*df['cgpa'].std()\n",
        "lower_limit = df['cgpa'].mean() - 3*df['cgpa'].std()"
      ],
      "metadata": {
        "id": "xDwbUbTLQYgu"
      },
      "execution_count": null,
      "outputs": []
    },
    {
      "cell_type": "code",
      "source": [
        "lower_limit"
      ],
      "metadata": {
        "colab": {
          "base_uri": "https://localhost:8080/"
        },
        "id": "sat6vwwuQczB",
        "outputId": "f2b99e50-29f4-44fd-9a36-d7356292caa6"
      },
      "execution_count": null,
      "outputs": [
        {
          "output_type": "execute_result",
          "data": {
            "text/plain": [
              "5.113546374602832"
            ]
          },
          "metadata": {},
          "execution_count": 86
        }
      ]
    },
    {
      "cell_type": "code",
      "source": [
        "df['cgpa'] = np.where(\n",
        "    df['cgpa']>upper_limit,\n",
        "    upper_limit,\n",
        "    np.where(\n",
        "        df['cgpa']<lower_limit,\n",
        "        lower_limit,\n",
        "        df['cgpa']\n",
        "    )\n",
        ")"
      ],
      "metadata": {
        "id": "NVW4QramQehr"
      },
      "execution_count": null,
      "outputs": []
    },
    {
      "cell_type": "code",
      "source": [
        "df.shape"
      ],
      "metadata": {
        "colab": {
          "base_uri": "https://localhost:8080/"
        },
        "id": "hpzOiNSzQgMV",
        "outputId": "2a84bb85-2f00-40b1-e960-805d0aa5e14b"
      },
      "execution_count": null,
      "outputs": [
        {
          "output_type": "execute_result",
          "data": {
            "text/plain": [
              "(1000, 4)"
            ]
          },
          "metadata": {},
          "execution_count": 88
        }
      ]
    },
    {
      "cell_type": "code",
      "source": [
        "df['cgpa'].describe()"
      ],
      "metadata": {
        "colab": {
          "base_uri": "https://localhost:8080/"
        },
        "id": "i8YqCm_xQiFZ",
        "outputId": "349258f5-cd67-4077-ef12-487524db749c"
      },
      "execution_count": null,
      "outputs": [
        {
          "output_type": "execute_result",
          "data": {
            "text/plain": [
              "count    1000.000000\n",
              "mean        6.961499\n",
              "std         0.612688\n",
              "min         5.113546\n",
              "25%         6.550000\n",
              "50%         6.960000\n",
              "75%         7.370000\n",
              "max         8.808934\n",
              "Name: cgpa, dtype: float64"
            ]
          },
          "metadata": {},
          "execution_count": 89
        }
      ]
    }
  ],
  "metadata": {
    "kernelspec": {
      "display_name": "Python 3",
      "language": "python",
      "name": "python3"
    },
    "language_info": {
      "codemirror_mode": {
        "name": "ipython",
        "version": 3
      },
      "file_extension": ".py",
      "mimetype": "text/x-python",
      "name": "python",
      "nbconvert_exporter": "python",
      "pygments_lexer": "ipython3",
      "version": "3.8.3"
    },
    "colab": {
      "provenance": []
    }
  },
  "nbformat": 4,
  "nbformat_minor": 0
}